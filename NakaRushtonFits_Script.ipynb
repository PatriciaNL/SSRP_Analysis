{
 "cells": [
  {
   "cell_type": "code",
   "execution_count": 319,
   "metadata": {},
   "outputs": [],
   "source": [
    "# load packages\n",
    "import numpy as np \n",
    "import scipy.io\n",
    "from scipy.io   import  loadmat\n",
    "import pandas as pd\n",
    "import os\n",
    "import matplotlib.pyplot as plt #import matplotlib as plt\n",
    "from scipy.optimize import curve_fit \n",
    "import seaborn as sns #import mat73\n",
    "import pickle as pkl\n",
    "from datetime import datetime\n",
    "from itertools import chain\n",
    "from scipy.optimize import curve_fit"
   ]
  },
  {
   "cell_type": "markdown",
   "metadata": {},
   "source": [
    "### *Import File to Process*"
   ]
  },
  {
   "cell_type": "code",
   "execution_count": 320,
   "metadata": {},
   "outputs": [
    {
     "name": "stdout",
     "output_type": "stream",
     "text": [
      "Avilable Files to choose from: 4\n",
      "Files on hand: ['SSRP_CntrlGroup_RCA1_CRF_20240627_150221.pkl', 'SSRP_CntrlGroup_RCA2_CRF_20240627_150307.pkl', 'SSRP_ExptGroup_RCA1_CRF_20240627_145808.pkl', 'SSRP_ExptGroup_RCA2_CRF_20240627_150025.pkl']\n",
      "SSRP_ExptGroup_RCA1_CRF_20240627_145808.pkl\n",
      "Group Imported: ExptGroup RCA1\n",
      "Keys Avialable: dict_keys(['F1_Norm_CRF', 'F2_Norm_CRF', 'F1_Diffs', 'F2_Diffs', 'F1_CRF', 'F2_CRF', 'F1_Raw_Diffs', 'F2_Raw_Diffs', 'File_Location_Indicies', 'Subj_Num_Ids'])\n"
     ]
    }
   ],
   "source": [
    "# Main Directory of processed file from MatLab\n",
    "MainDir = 'C:\\\\plimon\\\\SSRP_analysis_branch\\\\Contrast_Response_Functions\\\\' # set dir - on my computer\n",
    "os.chdir(MainDir) # change old dir, to this dir\n",
    "d = os.listdir(MainDir) # list files in dir\n",
    "print(f'Avilable Files to choose from: {len(d)}')\n",
    "print(f'Files on hand: {d}')\n",
    "##############################################\n",
    "FileN_f1 = d[2] #  data    \n",
    "print(FileN_f1) \n",
    "file_path1 = os.path.join(MainDir, FileN_f1) # join paths and prep 2 load\n",
    "print( 'Group Imported:', file_path1.split('_')[-5], file_path1.split('_')[-4])\n",
    "loadData = pkl.load(open(file_path1, 'rb'))\n",
    "print('Keys Avialable:', loadData.keys())"
   ]
  },
  {
   "cell_type": "markdown",
   "metadata": {},
   "source": [
    "### *Set Basic Plotting themes and colors*"
   ]
  },
  {
   "cell_type": "code",
   "execution_count": 321,
   "metadata": {},
   "outputs": [
    {
     "data": {
      "image/png": "[encoded data removed]",
      "text/plain": [
       "<Figure size 2000x100 with 1 Axes>"
      ]
     },
     "metadata": {},
     "output_type": "display_data"
    }
   ],
   "source": [
    "# Define the base colors for blending\n",
    "base_colors = ['black','green', 'blue', 'pink' ,'purple', 'orange', 'pink','red']\n",
    "# Number of colors needed in the spectrum\n",
    "num_colors = 20\n",
    "fill = sns.blend_palette(base_colors, n_colors=num_colors, as_cmap=False)\n",
    "sns.palplot(fill)\n",
    "plt.show()\n",
    "# color_set = [11,1,8,4]\n",
    "color_set = [0,12]\n",
    "custom = {\"axes.edgecolor\": \"black\", \"grid.linestyle\": \"dashed\", \"grid.color\": \"white\"}\n",
    "sns.set_style(\"darkgrid\", rc = custom)"
   ]
  },
  {
   "cell_type": "markdown",
   "metadata": {},
   "source": [
    "### *Set Fixed Parameters for  Hypoerbolic Ratio / Naka Rushton Fits*"
   ]
  },
  {
   "cell_type": "code",
   "execution_count": 322,
   "metadata": {},
   "outputs": [
    {
     "name": "stdout",
     "output_type": "stream",
     "text": [
      "length of x array for contrasts:  (1000,)\n"
     ]
    }
   ],
   "source": [
    "Condition_Label = ['Pot, A+', 'Non-Pot, A+', 'Pot, A-', 'Non-Pot, A-']\n",
    "crf_label = ['pre','post']\n",
    "contrast_labs = ['1%','2.5%','6.3%','15.8%','39.8%','100%']\n",
    "color_set = [3,6,12,13]\n",
    "\n",
    "ContrastArr = np.array(np.arange(0.0,100,0.1)) # all contrast from 1% - 100% - ~1k data points\n",
    "ContrastEnd = (ContrastArr.shape[0])\n",
    "print('length of x array for contrasts: ', ContrastArr.shape)\n",
    "\n",
    "x1 = np.linspace(0, 100, 6) # all 6 contrasts\n",
    "x2 = np.linspace(0, 100, ContrastEnd) # all 100 contrasts\n",
    "contrast_levels = [1,2.5,6.3,15.8,39.8,100]\n",
    "param_names = ['C50','n','Rmax','b']"
   ]
  },
  {
   "cell_type": "markdown",
   "metadata": {},
   "source": [
    "### *Set Naka-Rushton Functions*"
   ]
  },
  {
   "cell_type": "code",
   "execution_count": 323,
   "metadata": {},
   "outputs": [],
   "source": [
    "def naka_rushton(C, C50, n, Rmax, b):\n",
    "    \"\"\"\n",
    "    This function models neural responses captured by Contrast Response Functions\n",
    "     \n",
    "    C50 (parameter 1) : Contrast level that yields half of max response (contrast %)\n",
    "    n (parameter 2)   : Determines the curve arc for fitting (small integer)\n",
    "    Rmax (Parameter 3): Max response elicited (mv)\n",
    "    b (Parameter 4)   : Starting value (origin)\n",
    "    \"\"\"\n",
    "    return ((Rmax * (( C ** n) / ( C50 ** n + C ** n))) + b)\n",
    "\n",
    "# def naka_rushton_saturation(C,C50,n,Rmax,b,s):\n",
    "#     \"\"\"\n",
    "#     This function models neural responses captured by Contrast Response Functions with \n",
    "#     1 extra parameter to fit supersaturating CRF towards higher contrasts\n",
    "#     NOTE: The extra parameters means that all 4 values from this fit are DIFFERENT interpretations of original NR funct.\n",
    "#      C50 (parameter 1) : Contrast level that yields half of max response (contrast %)\n",
    "#     n (parameter 2)   : Determines the curve arc for fitting (small integer)\n",
    "#     Rmax (Parameter 3): Max response elicited (mv)\n",
    "#     b (Parameter 4)   : Starting value (origin)\n",
    "#     s (Parameter 5)   : saturation index\n",
    "#     \"\"\"\n",
    "#     return ((Rmax * (( C ** n) / ( C50 ** (s*n) + C ** (s*n)))) + b)"
   ]
  },
  {
   "cell_type": "markdown",
   "metadata": {},
   "source": [
    "### *Functions to organize data for fitting: Saturation index, sorting*"
   ]
  },
  {
   "cell_type": "code",
   "execution_count": 324,
   "metadata": {},
   "outputs": [],
   "source": [
    "def CombinePrePostResponses(DataIn, Cond2Import, HarmonicIndex):\n",
    "    # combine data sets in terms of attention and hemifield, sorting ONLY\n",
    "    Rows = int(len(DataIn))\n",
    "    Cols = 2\n",
    "    Data_PrePost_Mat = np.zeros((Rows,Cols,6)) # numsubs x contrasts            \n",
    "    for combine in range(len(DataIn)):\n",
    "        Data_PrePost_Mat[combine,:,:] = DataIn[combine][Cond2Import][HarmonicIndex,:,:]\n",
    "    return Data_PrePost_Mat"
   ]
  },
  {
   "cell_type": "code",
   "execution_count": 325,
   "metadata": {},
   "outputs": [],
   "source": [
    "# dataIn = PrePostConditionData[0] #[38,2,6]\n",
    "# # [38, 2]\n",
    "# PrePost_SaturationValues = np.zeros((int(dataIn.shape[0]),2)) #[subjx xsaturation index values]  # saturation index evaluation\n",
    "# # [38,2]\n",
    "# PrePost_SaturationValues_LocInstance = np.zeros((int(dataIn.shape[0]),2)) #[subj x saturation index values] # where saturation occured\n",
    "\n",
    "# for CRF_SaturationEval in range(2):#range(dataIn.shape[0]): # iterate through all subjects\n",
    "#     for prepost in range(2): # iterate through pre post crfs\n",
    "\n",
    "#         crf_data = dataIn[CRF_SaturationEval,prepost] # import 1 crf per iter (6 contrasts)\n",
    "\n",
    "#         MaxResponseLoc = np.argmax(crf_data) # find where maximum response is\n",
    "#         MaxResponseVal = crf_data[np.argmax(crf_data)] # find what ax response was given the locaiton\n",
    "\n",
    "#         # compute saturation index\n",
    "#         Response_at_100 = crf_data[5] # response at 100% contrast\n",
    "#         pseudo_C50 = crf_data[3] # reponse at 60% contrast, not 40% or 50% (we dont have 50% :())\n",
    "#         #SI_response_change = (Response_at_100 - pseudo_C50)/ MaxResponseVal # Saturation Index Computation (Ledgeway et al. 2005) \n",
    "#         PrePost_SaturationValues[CRF_SaturationEval,prepost] = (Response_at_100 - pseudo_C50)/ MaxResponseVal #store satruation index \n",
    "#         PrePost_SaturationValues_LocInstance[CRF_SaturationEval,prepost] = MaxResponseLoc # store contrast with saturation index  \n",
    "# print(PrePost_SaturationValues_LocInstance)"
   ]
  },
  {
   "cell_type": "code",
   "execution_count": 326,
   "metadata": {},
   "outputs": [],
   "source": [
    "def Store_SaturationIndex_Information(dataIn):\n",
    "    \"\"\"This function calculates the saturation index for pre and post contrast reponse functions \n",
    "        per particpant per condition if it is looped properly.\n",
    "        Returns: Saturation index calulated for both pre and post CRF's + Location where the maximum reponse was found\"\"\"\n",
    "\n",
    "    PrePost_SaturationValues = np.zeros((int(dataIn.shape[0]),2)) #[subjx xsaturation index values]  # saturation index evaluation\n",
    "    PrePost_SaturationValues_LocInstance = np.zeros((int(dataIn.shape[0]),2)) #[subj x saturation index values] # where saturation occured\n",
    "    PrePost_MaxCRF_Val = np.zeros((int(dataIn.shape[0]),2))\n",
    "\n",
    "    for CRF_SaturationEval in range(dataIn.shape[0]): # iterate through all subjects\n",
    "        for prepost in range(2): # iterate through pre post crfs\n",
    "            \n",
    "            crf_data = dataIn[CRF_SaturationEval,prepost] # import 1 crf per iter\n",
    "\n",
    "            MaxResponseLoc = np.argmax(crf_data) # find where maximum response is\n",
    "            MaxResponseVal = crf_data[np.argmax(crf_data)] # find what ax response was given the locaiton\n",
    "\n",
    "            Response_at_100 = crf_data[5] # response at 100% contrast\n",
    "\n",
    "            pseudo_C50 = crf_data[3] # reponse at 60% contrast, not 40% or 50% (we dont have 50% :())\n",
    "            #SI_response_change = (Response_at_100 - pseudo_C50)/ MaxResponseVal # Saturation Index Computation (Ledgeway et al. 2005) \n",
    "            PrePost_MaxCRF_Val[CRF_SaturationEval,prepost] = MaxResponseVal\n",
    "            PrePost_SaturationValues[CRF_SaturationEval,prepost] = (Response_at_100 - pseudo_C50)/ MaxResponseVal #store satruation index \n",
    "            PrePost_SaturationValues_LocInstance[CRF_SaturationEval,prepost] = MaxResponseLoc # store contrast with saturation index    \n",
    "\n",
    "    return PrePost_SaturationValues, PrePost_SaturationValues_LocInstance, PrePost_MaxCRF_Val\n",
    "############################################################################################################################\n",
    "# make empty bool to index saturating group and non saturarating crf group for analysis\n",
    "def GetSaturationIndex_Bool(SaturationValuesIn, CRFs_In): \n",
    "    \"\"\"Since there are many contrast response functions to analyze, here we make a bool for what CRF's displayed\n",
    "        suspersturation.\n",
    "        Returns: A binary array to index saturation and +increasing CRFs for pre and post CRFs\n",
    "        1 == Saturation was present, 0 == Consistent + Increasing CRF\n",
    "        \n",
    "        Note: Make sure to remove nan subjs bc they are automitically assigned to SI = 0\"\"\"\n",
    "    Saturation_Bool_PrePost = np.zeros((SaturationValuesIn.shape[0],2)) # bool index, 1 == saturation, 0 = no saturation identified\n",
    "    #print(Saturation_Bool_PrePost.shape) # [subs (38) , saturation index bool to fill]\n",
    "\n",
    "    for prepost in range(2):\n",
    "        for xSubiters in range(CRFs_In.shape[0]):\n",
    "            SatIndex = SaturationValuesIn[xSubiters,prepost]\n",
    "            if SatIndex < 0: # if a value is less than 0, append to saturation group \n",
    "                #print(f'saturation occured in subject {subjectCRF}')\n",
    "                Saturation_Bool_PrePost[xSubiters,prepost] = 1\n",
    "            else: # or else keep as a linear increase crf, as expected\n",
    "                Saturation_Bool_PrePost[xSubiters,prepost] = 0\n",
    "    Saturation_Bool_Total = np.sum(Saturation_Bool_PrePost,axis = 1) # returns 0,1,2  | 0 = No saturation, 2 = Saturation on all CRF's\n",
    "\n",
    "    return Saturation_Bool_PrePost,Saturation_Bool_Total\n",
    "# ###########################################################################################################################\n",
    "# def SegmentConditionsPerSaturationgroups(data2divy,bool2Use):\n",
    "#     Saturation_Group = data2divy[bool2Use > 0,:,:]\n",
    "#     Linear_Group = data2divy[bool2Use == 0,:,:]\n",
    "\n",
    "#     dataset = [Saturation_Group,Linear_Group]\n",
    "\n",
    "#     prepost_mat_out = []\n",
    "#     prepost_std_mat_out = []\n",
    "\n",
    "#     for setIn in range(2):\n",
    "#         CRF_Response = np.zeros((2,6))\n",
    "#         get_errorbars = np.zeros((2,6))\n",
    "#         for prepost in range(2):\n",
    "#             CRF_Response[prepost,:] = np.nanmean(dataset[setIn][:,prepost,:],axis = (0))\n",
    "#             get_errorbars[prepost,:] = np.nanstd(dataset[setIn][:,prepost,:],axis = 0) / np.sqrt(np.count_nonzero(~np.isnan(dataset[setIn][:,prepost,0])))\n",
    "\n",
    "#         prepost_mat_out.append(CRF_Response)\n",
    "#         prepost_std_mat_out.append(get_errorbars)\n",
    "\n",
    "#     return prepost_mat_out,prepost_std_mat_out,dataset#Saturation_Group, Linear_Group"
   ]
  },
  {
   "cell_type": "markdown",
   "metadata": {},
   "source": [
    "### *Import Processed, Normalized Contrast Response Function Data and sort*"
   ]
  },
  {
   "cell_type": "code",
   "execution_count": 327,
   "metadata": {},
   "outputs": [],
   "source": [
    "# indexing certain harmonics ,,,, note sure if this does anything here tho \n",
    "Harmonic_Range_To_Include = np.arange(0,2)\n",
    "NR_Harmonic_Range = Harmonic_Range_To_Include\n",
    "FirstIndex = int(NR_Harmonic_Range[0])\n",
    "LastIndex = int(NR_Harmonic_Range [1] + 1)"
   ]
  },
  {
   "cell_type": "code",
   "execution_count": 328,
   "metadata": {},
   "outputs": [],
   "source": [
    "# subject names and arrays to index attnL and attnR expts\n",
    "File_Pos = loadData['File_Location_Indicies']\n",
    "Subj_Ids = loadData['Subj_Num_Ids']\n",
    "## clean pre post CRF's\n",
    "F1_Responses = loadData['F1_Norm_CRF']\n",
    "F2_Responses = loadData['F2_Norm_CRF']"
   ]
  },
  {
   "cell_type": "code",
   "execution_count": 329,
   "metadata": {},
   "outputs": [],
   "source": [
    "crf_nans = np.zeros((4,2,6))\n",
    "diff_nans = np.zeros((4,6))\n",
    "crf_nans[:] = np.nan\n",
    "diff_nans[:] = np.nan"
   ]
  },
  {
   "cell_type": "code",
   "execution_count": 330,
   "metadata": {},
   "outputs": [
    {
     "name": "stdout",
     "output_type": "stream",
     "text": [
      "Both AttnL and AttnR files are present.\n",
      "[0. 1.]\n",
      "Both AttnL and AttnR files are present.\n",
      "[2. 3.]\n",
      "Both AttnL and AttnR files are present.\n",
      "[4. 5.]\n",
      "Both AttnL and AttnR files are present.\n",
      "[6. 7.]\n",
      "Both AttnL and AttnR files are present.\n",
      "[8. 9.]\n",
      "Both AttnL and AttnR files are present.\n",
      "[10. 11.]\n",
      "Both AttnL and AttnR files are present.\n",
      "[12. 13.]\n",
      "Both AttnL and AttnR files are present.\n",
      "[14. 15.]\n",
      "Attn R file is missing, now replacing ...\n",
      "[16. nan]\n",
      "Both AttnL and AttnR files are present.\n",
      "[17. 18.]\n",
      "Both AttnL and AttnR files are missing, now replacing all data ...\n",
      "[nan nan]\n",
      "Both AttnL and AttnR files are present.\n",
      "[21. 22.]\n",
      "Both AttnL and AttnR files are present.\n",
      "[23. 24.]\n",
      "Both AttnL and AttnR files are present.\n",
      "[25. 26.]\n",
      "Both AttnL and AttnR files are present.\n",
      "[27. 28.]\n",
      "Both AttnL and AttnR files are present.\n",
      "[29. 30.]\n",
      "Both AttnL and AttnR files are present.\n",
      "[31. 32.]\n",
      "Both AttnL and AttnR files are present.\n",
      "[33. 34.]\n",
      "Both AttnL and AttnR files are present.\n",
      "[35. 36.]\n",
      "Both AttnL and AttnR files are present.\n",
      "[37. 38.]\n",
      "Both AttnL and AttnR files are present.\n",
      "[39. 40.]\n",
      "Attn L file is missing, now replacing ...\n",
      "[nan 41.]\n",
      "Both AttnL and AttnR files are present.\n",
      "[42. 43.]\n",
      "Attn L file is missing, now replacing ...\n",
      "[nan 44.]\n",
      "Both AttnL and AttnR files are present.\n",
      "[45. 46.]\n",
      "Both AttnL and AttnR files are present.\n",
      "[47. 48.]\n",
      "Both AttnL and AttnR files are present.\n",
      "[49. 50.]\n",
      "Attn R file is missing, now replacing ...\n",
      "[51. nan]\n",
      "Attn R file is missing, now replacing ...\n",
      "[52. nan]\n",
      "Attn R file is missing, now replacing ...\n",
      "[53. nan]\n",
      "Attn L file is missing, now replacing ...\n",
      "[nan 54.]\n",
      "Attn R file is missing, now replacing ...\n",
      "[55. nan]\n",
      "Both AttnL and AttnR files are present.\n",
      "[56. 57.]\n",
      "Attn R file is missing, now replacing ...\n",
      "[58. nan]\n",
      "Attn R file is missing, now replacing ...\n",
      "[59. nan]\n",
      "Both AttnL and AttnR files are present.\n",
      "[60. 61.]\n",
      "Both AttnL and AttnR files are present.\n",
      "[62. 63.]\n",
      "Both AttnL and AttnR files are present.\n",
      "[64. 65.]\n"
     ]
    }
   ],
   "source": [
    "# sort! \n",
    "CRF_IndividualResponses_Sorted = []\n",
    "\n",
    "for iter in range(len(Subj_Ids)):\n",
    "\n",
    "    Subj_Title = Subj_Ids[iter] # subject \n",
    "    Indiv_File_Locations = File_Pos[iter,:] # import file locations for data\n",
    "    AttendL_Condition = Indiv_File_Locations[0] # attnL file\n",
    "    AttendR_Condition = Indiv_File_Locations[1] # attnR file\n",
    "\n",
    "    # If both locations contain NaNs, replace all data\n",
    "    if np.isnan(AttendL_Condition) and np.isnan(AttendR_Condition):\n",
    "        CRF_Set = [crf_nans, crf_nans, crf_nans, crf_nans]\n",
    "        print('Both AttnL and AttnR files are missing, now replacing all data ...')\n",
    "        print(Indiv_File_Locations)\n",
    "    # If the first position contains a NaN, replace with NaN data for F1 and F2\n",
    "    elif np.isnan(AttendL_Condition):\n",
    "        print('Attn L file is missing, now replacing ...')\n",
    "        print(Indiv_File_Locations)\n",
    "        CRF_Set = [crf_nans, crf_nans, F1_Responses[int(AttendR_Condition)], F2_Responses[int(AttendR_Condition)]]\n",
    "    # If the second position contains a NaN, replace with NaN data for F1 and F2\n",
    "    elif np.isnan(AttendR_Condition):\n",
    "        print('Attn R file is missing, now replacing ...')\n",
    "        print(Indiv_File_Locations)\n",
    "        CRF_Set = [F1_Responses[int(AttendL_Condition)], F2_Responses[int(AttendL_Condition)], crf_nans, crf_nans]\n",
    "    else:\n",
    "        print('Both AttnL and AttnR files are present.')\n",
    "        print(Indiv_File_Locations)\n",
    "        CRF_Set = [F1_Responses[int(AttendL_Condition)], F2_Responses[int(AttendL_Condition)], F1_Responses[int(AttendR_Condition)], F2_Responses[int(AttendR_Condition)]]\n",
    "        \n",
    "    CRF_IndividualResponses_Sorted.append(CRF_Set)"
   ]
  },
  {
   "cell_type": "markdown",
   "metadata": {},
   "source": [
    "#### *Should have 4 indices, each for : Pot Attn Cong, NonPot Attn Congr, Pot Attn Incong, NonPot Attn Incong*"
   ]
  },
  {
   "cell_type": "code",
   "execution_count": 331,
   "metadata": {},
   "outputs": [
    {
     "name": "stdout",
     "output_type": "stream",
     "text": [
      "38\n",
      "4\n",
      "(4, 2, 6)\n"
     ]
    }
   ],
   "source": [
    "print(len(CRF_IndividualResponses_Sorted)) # [subject , 4 condtions, harmonic, prepost , contrast]\n",
    "print(len(CRF_IndividualResponses_Sorted[0])) # 1 subjects perfomrance for boht sessions for each hemisphere\n",
    "print((CRF_IndividualResponses_Sorted[0][0].shape)) # Harmonic CRF, PrePost Values, Response per sweep"
   ]
  },
  {
   "cell_type": "markdown",
   "metadata": {},
   "source": [
    "### *Combine CRF's into a single array, for a single harmonic at a time*"
   ]
  },
  {
   "cell_type": "markdown",
   "metadata": {},
   "source": [
    "### *7/11/24 to do: make a for loop to get high harmonic data for fits*"
   ]
  },
  {
   "cell_type": "code",
   "execution_count": 332,
   "metadata": {},
   "outputs": [],
   "source": [
    "HarmonicValIn = 0"
   ]
  },
  {
   "cell_type": "code",
   "execution_count": 333,
   "metadata": {},
   "outputs": [
    {
     "name": "stdout",
     "output_type": "stream",
     "text": [
      "(38, 2, 6)\n",
      "(38, 2, 6)\n",
      "(38, 2, 6)\n",
      "(38, 2, 6)\n"
     ]
    }
   ],
   "source": [
    "PrePostConditionData = {}\n",
    "for CondX in range(4):\n",
    "    PrePostConditionData[CondX] = CombinePrePostResponses(DataIn = CRF_IndividualResponses_Sorted, Cond2Import = CondX, HarmonicIndex = HarmonicValIn)\n",
    "    print(PrePostConditionData[CondX].shape)"
   ]
  },
  {
   "cell_type": "markdown",
   "metadata": {},
   "source": [
    "#### *Based on above, plot saturatation trend across Hemisphere for Attn-Congruent and Incongruent Condition*"
   ]
  },
  {
   "cell_type": "code",
   "execution_count": 334,
   "metadata": {},
   "outputs": [],
   "source": [
    "Vals = [] \n",
    "SaturatingSweep = []\n",
    "RMaxResponseRecord = []\n",
    "\n",
    "for CondX in range(4):\n",
    "    CondX_Vals, CondX_SaturatingSweep, RMaxVals = Store_SaturationIndex_Information(dataIn = PrePostConditionData[CondX])\n",
    "    Vals.append(CondX_Vals) # saturation index values \n",
    "    SaturatingSweep.append(CondX_SaturatingSweep) # position of max repsonse \n",
    "    RMaxResponseRecord.append(RMaxVals) # store response at highest contrast "
   ]
  },
  {
   "cell_type": "code",
   "execution_count": 335,
   "metadata": {},
   "outputs": [
    {
     "data": {
      "image/png": "[encoded data removed]",
      "text/plain": [
       "<Figure size 2800x500 with 4 Axes>"
      ]
     },
     "metadata": {},
     "output_type": "display_data"
    }
   ],
   "source": [
    "fig,axs = plt.subplots(1,4,figsize = ((28,5)),sharey = True)\n",
    "\n",
    "for coV in range(4):\n",
    "    SI_Values_PrePost = np.array(Vals[coV])\n",
    "\n",
    "    SI_label = ['pre','post']\n",
    "    for i in range(SI_Values_PrePost.shape[1]):\n",
    "        axs[coV].scatter(np.arange(0,SI_Values_PrePost.shape[0],1),SI_Values_PrePost[:,i],color = fill[9+i], label = SI_label[i])\n",
    "        #plt.plot(SI_Values_PrePost[:,i],color = fill[9+i])\n",
    "        axs[coV].hlines(0,xmin = 0,xmax = int(SI_Values_PrePost.shape[0]), color = fill[0])\n",
    "        axs[coV].legend(loc = 'lower right')\n",
    "        axs[coV].set_title(f'Saturation Index Cond: {Condition_Label[coV]}')"
   ]
  },
  {
   "cell_type": "code",
   "execution_count": 336,
   "metadata": {},
   "outputs": [],
   "source": [
    "# color_s = [0,5]\n",
    "# for coV in range(4):\n",
    "#     SI_Values_PrePost = np.array(Vals[coV])\n",
    "\n",
    "#     fig,axs = plt.subplots(figsize = ((6,3)))\n",
    "#     for i in range(SI_Values_PrePost.shape[1]):\n",
    "#         axs.scatter(np.arange(0,SI_Values_PrePost.shape[0],1),SI_Values_PrePost[:,i],color = fill[color_s[i]], label = crf_label[i])\n",
    "#         #plt.plot(SI_Values_PrePost[:,i],color = fill[color_s[i]])\n",
    "#         axs.hlines(0,xmin = 0,xmax = int(SI_Values_PrePost.shape[0]), color = fill[0])\n",
    "#         axs.legend(loc = 'lower right')\n",
    "#         axs.set_title(f'Saturation Index Cond: {Condition_Label[coV]}')"
   ]
  },
  {
   "cell_type": "code",
   "execution_count": 337,
   "metadata": {},
   "outputs": [],
   "source": [
    "Saturation_Bool_group = []\n",
    "Saturation_Counts = [] # wull use this index to identiy saturating CRF groups\n",
    "\n",
    "for CondX in range(4): \n",
    "    sbg, sc = GetSaturationIndex_Bool(SaturationValuesIn = Vals[CondX], CRFs_In= PrePostConditionData[CondX])\n",
    "    Saturation_Bool_group.append(sbg)\n",
    "    Saturation_Counts.append(sc)"
   ]
  },
  {
   "cell_type": "markdown",
   "metadata": {},
   "source": [
    "### *Will use the below array to index between saturating and non saturing responses*"
   ]
  },
  {
   "cell_type": "code",
   "execution_count": 338,
   "metadata": {},
   "outputs": [
    {
     "name": "stdout",
     "output_type": "stream",
     "text": [
      "(array([0., 1., 2.]), array([15,  5, 18], dtype=int64))\n",
      "[2. 2. 0. 1. 0. 2. 2. 2. 0. 0. 0. 2. 2. 0. 2. 0. 2. 2. 0. 0. 2. 0. 2. 0.\n",
      " 2. 1. 0. 2. 1. 1. 0. 2. 2. 1. 2. 0. 2. 0.]\n"
     ]
    }
   ],
   "source": [
    "Saturation_Subjs = np.array(Saturation_Counts[0])\n",
    "print(np.unique((Saturation_Counts[0]),return_counts = True))\n",
    "print(Saturation_Subjs)"
   ]
  },
  {
   "cell_type": "markdown",
   "metadata": {},
   "source": [
    "#### Based on supersaturating reponses, fix responses based on rmax"
   ]
  },
  {
   "cell_type": "code",
   "execution_count": 352,
   "metadata": {},
   "outputs": [],
   "source": [
    "def SaturationFix_CRF(crf = PrePostConditionData[0],SI = Saturation_Bool_group[0]):\n",
    "\n",
    "    DataIn = np.array(crf) # pre post contrast repsonse functions \n",
    "    SI_In = np.array(SI) # saturation index for pre post\n",
    "\n",
    "    DataOut = np.zeros_like(DataIn)\n",
    "\n",
    "    for x in range(DataIn.shape[0]):\n",
    "        for prepost in range(2):\n",
    "            if SI_In[x,prepost] == 1:\n",
    "                crf_rmax = np.max(DataIn[x,prepost])\n",
    "                crf_rmax_pos = np.argmax(DataIn[x,prepost])\n",
    "                DataOut[x,prepost,0:crf_rmax_pos] = DataIn[x,prepost,0:crf_rmax_pos]\n",
    "                DataOut[x,prepost,crf_rmax_pos:] = crf_rmax\n",
    "\n",
    "            else:\n",
    "                DataOut[x,prepost,:] = DataIn[x,prepost]\n",
    "\n",
    "                # plt.plot(dataIn[x,prepost,:], label = f'{prepost}')\n",
    "                #plt.legend()\n",
    "                #plt.plot(dataIn[x,prepost,:], label = f'new {prepost}')\n",
    "                # plt.legend()\n",
    "\n",
    "    return DataOut"
   ]
  },
  {
   "cell_type": "code",
   "execution_count": null,
   "metadata": {},
   "outputs": [],
   "source": [
    "def SaturationFix_CRF(crf = PrePostConditionData,SI = Saturation_Bool_group,conditionInterestedIn = x):\n",
    "\n",
    "    DataIn = np.array(crf[conditionInterestedIn]) # pre post contrast repsonse functions \n",
    "    SI_In = SI[conditionInterestedIn] # saturation index for pre post\n",
    "\n",
    "\n",
    "    sim_crfFuncts = np.zeros_like(DataIn) # fixed crfs with droping tail\n",
    "\n",
    "    for SubjIters in range(DataIn.shape[0]):\n",
    "        crf_funcs  = DataIn[SubjIters,:,:]\n",
    "        SI_Val= SI_In[SubjIters,:]\n",
    "        CMax_In = C_Maxresponse[SubjIters,:] # rmax value\n",
    "        CMax_pos = c_MaxResponseLoc[SubjIters,:] # rmax location\n",
    "\n",
    "        for prepost in range(2):\n",
    "            prepost_crf = crf_funcs[prepost]\n",
    "            rmax_crf_response = CMax_In[prepost]\n",
    "            SI_value = SI_Val[prepost]\n",
    "            maxResponse_position = int(CMax_pos[prepost])\n",
    "            if SI_value == 1:# if saturation happened .. \n",
    "                #print(f'cr at 100% will be modified')\n",
    "                maxResponse = prepost_crf[int(rmax_crf_response)] # highest reponse to a contrast \n",
    "                prepost_crf[maxResponse_position:] = maxResponse # max repsonse  at 100 to be modified\n",
    "                sim_crfFuncts[SubjIters,prepost,:] = prepost_crf\n",
    "            else:\n",
    "                sim_crfFuncts[SubjIters,prepost,:] = prepost_crf\n",
    "\n",
    "    return  sim_crfFuncts"
   ]
  },
  {
   "cell_type": "code",
   "execution_count": null,
   "metadata": {},
   "outputs": [],
   "source": [
    "FixedSaturation_CRF = []\n",
    "for x in range(4):\n",
    "    SaturationFixes = SaturationFix_CRF(crf = PrePostConditionData,SI = Saturation_Bool_group,maxCRF_response = RMaxResponseRecord,maxCRF_loc = SaturatingSweep,conditionInterestedIn = x)\n",
    "    FixedSaturation_CRF.append(SaturationFixes)"
   ]
  },
  {
   "cell_type": "code",
   "execution_count": null,
   "metadata": {},
   "outputs": [],
   "source": [
    "test = FixedSaturation_CRF[0]\n",
    "print(test.shape)\n",
    "print(Saturation_Bool_group[0][0,:])\n",
    "\n",
    "plt.plot(test[0,0,:])"
   ]
  },
  {
   "cell_type": "markdown",
   "metadata": {},
   "source": [
    "##### *Run Original NakaRushton with Non-Saturating, Normalized Contrast Response Functions*"
   ]
  },
  {
   "cell_type": "markdown",
   "metadata": {},
   "source": [
    "### *NakaRushton Fit Boundaries*"
   ]
  },
  {
   "cell_type": "code",
   "execution_count": null,
   "metadata": {},
   "outputs": [],
   "source": [
    "### Model Estimates...based on nothing soild - subject to change \n",
    "c50_b = [0,50] # contrast level that yields 50% of max response\n",
    "n_b = [0,4] # determin curve arc for fitting \n",
    "Rmax_b = [0,1] # max response, post-normalization maxrespone = ~ 1.25 / 1.3\n",
    "b_b = [0,0.5] # starting value, should be around 0-0.9 ish\n",
    "boundaries=([c50_b[0],n_b[0],Rmax_b[0],b_b[0]], [c50_b[1],n_b[1],Rmax_b[1],b_b[1]]) # Boundary Params for C50, N, Rmax and B\n",
    "startingGuess = [40,0.1,1,0] # Initial guess for 2f params"
   ]
  },
  {
   "cell_type": "code",
   "execution_count": null,
   "metadata": {},
   "outputs": [],
   "source": [
    "# get non-saturating CRFs to fit and derive values from \n",
    "nr_Group = []\n",
    "\n",
    "for CondX in range(4):\n",
    "    #grouped_data = PrePostConditionData[CondX][Saturation_Subjs == 0,:,:] # No Saturation group, SI == 0\n",
    "    #grouped_data = PrePostConditionData[CondX][Saturation_Subjs > 0,:,:] # Supersaturaton group, SI< 0 \n",
    "    grouped_data = FixedSaturation_CRF[CondX] # FIXED SATURATION DATA\n",
    "    #grouped_data = PrePostConditionData[CondX] # Supersaturaton group, SI< 0 # ORIGINAL CRFS WITH SATURATION\n",
    "    nr_Group.append(grouped_data)"
   ]
  },
  {
   "cell_type": "code",
   "execution_count": null,
   "metadata": {},
   "outputs": [],
   "source": [
    "print(nr_Group[0][0,0,:])\n",
    "print(nr_Group[1][0,0,:])"
   ]
  },
  {
   "cell_type": "markdown",
   "metadata": {},
   "source": [
    "#### *Visualize Original Contrast Resonse Functions*"
   ]
  },
  {
   "cell_type": "code",
   "execution_count": null,
   "metadata": {},
   "outputs": [],
   "source": [
    "fig,axs = plt.subplots(1,4,figsize = ((14,4)), sharey = True)\n",
    "\n",
    "for x in range(4):\n",
    "    condition = np.array(nr_Group[x])\n",
    "    NumObvs = np.sqrt(np.count_nonzero(~np.isnan(condition[:,0,0]))) # get number of subjs\n",
    "    for prepost in range(2):\n",
    "        prepost_avgs = np.nanmean(condition[:,prepost,:],axis = 0)\n",
    "        prepost_stds = np.nanstd(condition[:,prepost,:],axis = 0) / NumObvs\n",
    "        #axs[x].plot(prepost_avgs, label =crf_label[prepost], color = fill[9+prepost])\n",
    "        axs[x].errorbar(np.arange(0,6,1),prepost_avgs,yerr = prepost_stds,label =crf_label[prepost], color = fill[9+prepost], linewidth = 2)\n",
    "        axs[x].set_title(f'{Condition_Label[x]}')\n",
    "        axs[x].set_ylabel(f'Amplitude (mV)')\n",
    "        axs[x].set_xlabel(f'Contrast %')\n",
    "        axs[x].set_xticks(ticks = np.arange(0,6,1),labels = contrast_labs)\n",
    "        axs[x].hlines(0,xmin = 0,xmax = 5, color = 'black')\n",
    "        axs[x].legend()\n",
    "plt.suptitle(f'original CRF', fontsize = 15)\n",
    "### What ryan wants: for every particpant get SI and then use a function like mas to identify max response, and it its not at 100% take repsone at peack and - response 100% \n",
    "# do particpants "
   ]
  },
  {
   "cell_type": "markdown",
   "metadata": {},
   "source": [
    "#### *Visualize Fixed Satruation Contrast Resposnse Functions*"
   ]
  },
  {
   "cell_type": "code",
   "execution_count": null,
   "metadata": {},
   "outputs": [],
   "source": [
    "fig,axs = plt.subplots(1,4,figsize = ((14,4)), sharey = True)\n",
    "\n",
    "for x in range(4):\n",
    "\n",
    "    condition = np.array(FixedSaturation_CRF[x])\n",
    "    #condition = np.array(nr_Group[x])\n",
    "    NumObvs = np.sqrt(np.count_nonzero(~np.isnan(condition[:,0,0]))) # get number of subjs\n",
    "\n",
    "    for prepost in range(2):\n",
    "        prepost_avgs = np.nanmean(condition[:,prepost,:],axis = 0)\n",
    "        prepost_stds = np.nanstd(condition[:,prepost,:],axis = 0) / NumObvs\n",
    "        #axs[x].plot(prepost_avgs, label =crf_label[prepost], color = fill[9+prepost])\n",
    "        axs[x].errorbar(np.arange(0,6,1),prepost_avgs,yerr = prepost_stds,label =crf_label[prepost], color = fill[9+prepost], linewidth = 2)\n",
    "        axs[x].set_title(f'{Condition_Label[x]}')\n",
    "        axs[x].set_ylabel(f'Amplitude (mV)')\n",
    "        axs[x].set_xlabel(f'Contrast %')\n",
    "        axs[x].set_xticks(ticks = np.arange(0,6,1),labels = contrast_labs)\n",
    "        axs[x].hlines(0,xmin = 0,xmax = 5, color = 'black')\n",
    "        axs[x].legend()\n",
    "\n",
    "plt.suptitle(f'Fixed Saturation CRF', fontsize = 15)"
   ]
  },
  {
   "cell_type": "markdown",
   "metadata": {},
   "source": [
    "#### *to do: 7/12/24| plot pre post differences again*"
   ]
  },
  {
   "cell_type": "code",
   "execution_count": null,
   "metadata": {},
   "outputs": [],
   "source": [
    "# dummy data for pre-exisiting nan data (missing files)\n",
    "emptyMat = np.zeros((1,4))\n",
    "emptyMat[:] = np.nan"
   ]
  },
  {
   "cell_type": "code",
   "execution_count": null,
   "metadata": {},
   "outputs": [],
   "source": [
    "AllCondition_FitParams = []\n",
    "\n",
    "for nr_group_in in range(4):\n",
    "    #nr_group_data = np.array(nr_Group[nr_group_in]) # original contrast repsonse functions \n",
    "    nr_group_data = np.array(FixedSaturation_CRF[nr_group_in]) # fixed saturation contrast repsonse functions \n",
    "    \n",
    "    Fit_Params = np.zeros((nr_group_data.shape[0],2,4)) # [numsubs x prepost x fit outputs for hyperbolic ratio values]\n",
    "\n",
    "    for subj in range(nr_group_data.shape[0]):\n",
    "        for prepost in range(2):\n",
    "            functs_In = nr_group_data[subj,prepost,:]\n",
    "            if np.isnan(functs_In).all():\n",
    "                #print(f'skipping this computation..., data not avilable: {subj,prepost}')\n",
    "                Fit_Params[subj,prepost,:] = emptyMat\n",
    "            else: \n",
    "                Fit_Params[subj,prepost,:], _ = curve_fit(naka_rushton,contrast_levels,functs_In,p0 = [20,0.05,1,0], bounds = boundaries,nan_policy='omit', method='trf')\n",
    "    AllCondition_FitParams.append(Fit_Params)"
   ]
  },
  {
   "cell_type": "code",
   "execution_count": null,
   "metadata": {},
   "outputs": [],
   "source": [
    "AllCondition_SmoothFits = []\n",
    "\n",
    "for nr_group_in in range(4):\n",
    "    nr_group_fitVals = np.array(AllCondition_FitParams[nr_group_in]) # params form curve fit\n",
    "    SmoothFitsOut = np.zeros((nr_Group[nr_group_in].shape[0],2,int(len(ContrastArr)))) # empty array to make smooth fits\n",
    "\n",
    "    for subjFitVals in range(nr_group_fitVals.shape[0]):\n",
    "        for prepost in range(2):\n",
    "            SmoothFits = np.array(nr_group_fitVals[subjFitVals,prepost,:]) # 4 values \n",
    "            SmoothFitsOut[subjFitVals,prepost,:] = naka_rushton(ContrastArr,SmoothFits[0],SmoothFits[1],SmoothFits[2],SmoothFits[3])\n",
    "    AllCondition_SmoothFits.append(SmoothFitsOut)"
   ]
  },
  {
   "cell_type": "code",
   "execution_count": null,
   "metadata": {},
   "outputs": [],
   "source": [
    "crf__loc_vals = np.array(contrast_levels) - 1"
   ]
  },
  {
   "cell_type": "code",
   "execution_count": null,
   "metadata": {},
   "outputs": [],
   "source": [
    "# for subject in range(AllCondition_SmoothFits[0].shape[0]):\n",
    "#     fig,axs = plt.subplots(1,4,figsize = ((16,4)),sharey = True)\n",
    "#     for vx in range(4):\n",
    "#         smoothfitsimports = np.array(AllCondition_SmoothFits[vx][subject,:,:])\n",
    "#         #crfimports = np.array(nr_Group[vx][subject,:,:])\n",
    "#         crfimports = np.array(FixedSaturation_CRF[vx][subject,:,:])\n",
    "    \n",
    "#         nr_fit_values = np.array(AllCondition_FitParams[vx][subject,:,:])\n",
    "#         for prepost in range(2):\n",
    "#             axs[vx].plot(x2,smoothfitsimports[prepost,:],color = fill[9+prepost])\n",
    "#             axs[vx].scatter(contrast_levels, crfimports[prepost,:],color = fill[9+prepost],marker = 'o', linewidths = 1, s = 80,label = f'PRE: C50: {nr_fit_values[prepost,0]:.2f}, n:{nr_fit_values[prepost,1]:.2f},rMax:{nr_fit_values[prepost,2]:.2f}, B:{nr_fit_values[prepost,3]:.2f}')\n",
    "#             axs[vx].set_title(f'{Condition_Label[vx]}')\n",
    "#             axs[vx].set_ylabel(f'Amplitude (mV)')\n",
    "#             axs[vx].set_xlabel(f'Contrast %')\n",
    "#             axs[vx].hlines(0,xmin = 0,xmax = 100, color = 'black')\n",
    "\n",
    "#         for x, y in zip(contrast_levels, crfimports[0,:]):\n",
    "#             axs[vx].vlines(x, ymin=y-0.10, ymax=y+0.10, color=fill[9], linestyle='--', linewidth=1)\n",
    "\n",
    "#         for x, y in zip(contrast_levels, crfimports[1,:]):\n",
    "#             axs[vx].vlines(x, ymin=y-0.10, ymax=y+0.10, color=fill[10],linestyle='--', linewidth=1)\n",
    "\n",
    "#             #legend = ax.legend(loc='upper center', bbox_to_anchor=(0.5, -0.1), ncol=2)\n",
    "#             axs[vx].legend(loc = 'upper right',fontsize = 9,bbox_to_anchor=(1, -0.14))"
   ]
  },
  {
   "cell_type": "markdown",
   "metadata": {},
   "source": [
    "#### *Visualize AllCondition_FitParams (naka rushton fit values)*"
   ]
  },
  {
   "cell_type": "code",
   "execution_count": null,
   "metadata": {},
   "outputs": [],
   "source": [
    "fig,axs = plt.subplots(1,4,figsize = ((8,2)),sharey = True)\n",
    "\n",
    "for ParamConds in range(4):\n",
    "    nr_viz = AllCondition_FitParams[ParamConds]\n",
    "    NumObvs = np.sqrt(np.count_nonzero(~np.isnan(nr_viz[:,0,0]))) # get number of subjs\n",
    "    #print(nr_viz.shape) #[38 x 2 x 4]  = # 3rd Dim = [0] = C50,[1] = n , [2] = rMax, [3] = b\n",
    "    #print(NumObvs)\n",
    "    axs[ParamConds].scatter(np.arange(0,int(nr_viz.shape[0]),1),nr_viz[:,0,0], color = fill[0], label = 'Pre C50', alpha = 0.30)\n",
    "    axs[ParamConds].scatter(np.arange(0,int(nr_viz.shape[0]),1),nr_viz[:,1,0], color = fill[3], label = 'Post C50', alpha = 0.80)"
   ]
  },
  {
   "cell_type": "code",
   "execution_count": null,
   "metadata": {},
   "outputs": [],
   "source": [
    "paramVal_title = ['C50','n','rMax','b']\n",
    "fig,axs = plt.subplots(1,4,figsize = ((12,5)),sharey = False)\n",
    "\n",
    "for param_Val in range(4):\n",
    "    for ParamConds in range(4):\n",
    "        nr_viz = AllCondition_FitParams[ParamConds]\n",
    "        NumObvs = np.sqrt(np.count_nonzero(~np.isnan(nr_viz[:,0,param_Val]))) # get number of subjs\n",
    "\n",
    "        paramMeans = np.nanmean(nr_viz[:,:,param_Val],axis = 0)\n",
    "        paramSTDS = np.nanstd(nr_viz[:,:,param_Val],axis = 0) / NumObvs\n",
    "\n",
    "        # axs[1.0].errorbar( np.array(paramMeans), yerr = paramSTDS, color ='red', linewidth = 2)\n",
    "        axs[param_Val].hlines(0,xmin = 0,xmax = 1, color = 'black')\n",
    "        axs[param_Val].errorbar(np.arange(0,2,1),paramMeans, color = fill[ParamConds+9],yerr = paramSTDS, label = f'{Condition_Label[ParamConds]}', linewidth = 4)\n",
    "        axs[param_Val].set_xticks(ticks = np.arange(0,2,1),labels = ['Pre','Post'], fontsize= 12)\n",
    "        axs[param_Val].set_title(f'{paramVal_title[param_Val]}')\n",
    "\n",
    "axs[3].legend(loc = 'lower right')"
   ]
  },
  {
   "cell_type": "markdown",
   "metadata": {},
   "source": [
    "#### *Make Naka Rushton Dataframes for MANOVA*\n",
    "### subtract response differences for each nr value"
   ]
  },
  {
   "cell_type": "code",
   "execution_count": null,
   "metadata": {},
   "outputs": [],
   "source": [
    "print(len(AllCondition_FitParams))\n",
    "print(AllCondition_FitParams[0].shape)"
   ]
  },
  {
   "cell_type": "code",
   "execution_count": null,
   "metadata": {},
   "outputs": [],
   "source": [
    "test = AllCondition_FitParams[0][0,:,:]\n",
    "print(test.shape)\n",
    "fit_differenceValues = np.subtract(test[1,:],test[0,:])\n",
    "print(fit_differenceValues)"
   ]
  },
  {
   "cell_type": "code",
   "execution_count": null,
   "metadata": {},
   "outputs": [],
   "source": [
    "# groupIn = AllCondition_FitParams[3]\n",
    "# print(groupIn[:,0,:].shape)\n",
    "fig,axs = plt.subplots(figsize = ((8,6)))\n",
    "sns.set_style(\"whitegrid\")\n",
    "sns.despine(left=True)\n",
    "for xCond_Iters in range(4):\n",
    "    groupIn = AllCondition_FitParams[xCond_Iters]\n",
    "\n",
    "    NR_ValuesDiffs = np.subtract(groupIn[:,1,:], groupIn[:,0,:]) # post C50 - pre C50\n",
    "\n",
    "    NumObvs = np.sqrt(np.count_nonzero(~np.isnan(NR_ValuesDiffs[:,0]))) # get number of subjs\n",
    "\n",
    "    avgDiff = np.nanmean(NR_ValuesDiffs, axis = 0)\n",
    "    avgSTD = np.nanstd(NR_ValuesDiffs, axis = 0) / NumObvs\n",
    "\n",
    "    axs.errorbar(np.arange(0,4,1),avgDiff, color = fill[xCond_Iters+9],yerr = avgSTD, linewidth = 4, ls = 'none',label = Condition_Label[xCond_Iters]) # label = f'{Condition_Label[xCond_Iters]})\n",
    "    axs.scatter(np.arange(0,4,1),avgDiff, facecolors = 'none', edgecolors = fill[xCond_Iters+9], s = 500, linewidths=5)\n",
    "\n",
    "\n",
    "axs.set_xticks(ticks = np.arange(0,4,1),labels = ['C50','n', 'rMax', 'b'], fontsize= 12)\n",
    "axs.hlines(0,xmin = 0,xmax = 3, color = 'black',label = 'No Change')\n",
    "axs.set_title('Post Induction Naka Rushton Changes', fontsize = 20)\n",
    "axs.set_ylabel(f'Reponse Change', fontsize = 15)\n",
    "axs.set_xlabel(f'Naka Rushton Values', fontsize = 15)\n",
    "axs.legend(loc = 'lower right', fontsize = 15)"
   ]
  },
  {
   "cell_type": "markdown",
   "metadata": {},
   "source": [
    "#### *Make Dataframes for ANOVA*"
   ]
  },
  {
   "cell_type": "code",
   "execution_count": null,
   "metadata": {},
   "outputs": [],
   "source": [
    "attnToArr = [1,1,0,0]\n",
    "HemifArr = [1,0,1,0]\n",
    "\n",
    "condDataIn = AllCondition_FitParams[0]\n",
    "print(condDataIn.shape)\n",
    "print(condDataIn[0,:,:].shape)\n",
    "\n",
    "FitValues_mat= np.zeros((4,7))\n",
    "print(FitValues_mat.shape)\n",
    "\n",
    "NumSubsIters = int(len(Subj_Ids))\n",
    "\n",
    "for SubjInfIn in range(1):#range(NumSubsIters):\n",
    "    dataIn = condDataIn[SubjInfIn,:]\n",
    "\n",
    "    FitValues_mat[:,0] = Subj_Ids[SubjInfIn] # subject identification\n",
    "    FitValues_mat[:,1] = dataIn[0,:] # pre nk paramters \n",
    "    FitValues_mat[:,2] = dataIn[1,:] # post nr parameters\n",
    "    FitValues_mat[:,3] = HarmonicValIn # enter hamronic informaiton\n",
    "    FitValues_mat[:,4] = attnToArr[0]  #attnTo info \n",
    "    FitValues_mat[:,5] =  HemifArr[0] #Hemifield info\n",
    "    FitValues_mat[:,6] =  np.array(np.arange(0,4,1)) # 0 = c50, 1 = n, 2 = -rmax, 3 = b"
   ]
  },
  {
   "cell_type": "code",
   "execution_count": null,
   "metadata": {},
   "outputs": [],
   "source": [
    "FitValues_mat[:,6]"
   ]
  },
  {
   "cell_type": "markdown",
   "metadata": {},
   "source": [
    "#### Store nr value "
   ]
  }
 ],
 "metadata": {
  "kernelspec": {
   "display_name": "Python 3",
   "language": "python",
   "name": "python3"
  },
  "language_info": {
   "codemirror_mode": {
    "name": "ipython",
    "version": 3
   },
   "file_extension": ".py",
   "mimetype": "text/x-python",
   "name": "python",
   "nbconvert_exporter": "python",
   "pygments_lexer": "ipython3",
   "version": "3.11.9"
  }
 },
 "nbformat": 4,
 "nbformat_minor": 2
}
