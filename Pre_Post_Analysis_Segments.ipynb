{
 "cells": [
  {
   "cell_type": "code",
   "execution_count": 57,
   "metadata": {},
   "outputs": [],
   "source": [
    "# load libs\n",
    "import numpy as np \n",
    "import scipy.io\n",
    "from scipy.io   import  loadmat\n",
    "import pandas as pd\n",
    "import os\n",
    "import matplotlib.pyplot as plt #import matplotlib as plt\n",
    "from scipy.optimize import curve_fit \n",
    "import seaborn as sns #import mat73\n",
    "import pickle as pkl\n",
    "from datetime import datetime\n",
    "from itertools import chain\n",
    "from scipy.optimize import curve_fit"
   ]
  },
  {
   "cell_type": "markdown",
   "metadata": {},
   "source": [
    "### ***Functions***"
   ]
  },
  {
   "cell_type": "markdown",
   "metadata": {},
   "source": [
    "#### ***HR/NR Fit Boundaries***"
   ]
  },
  {
   "cell_type": "code",
   "execution_count": 58,
   "metadata": {},
   "outputs": [],
   "source": [
    "### Model Estimates...based on nothing soild - subject to change \n",
    "c50_b = [0,50] # contrast level that yields 50% of max response\n",
    "n_b = [0,4] # determin curve arc for fitting \n",
    "Rmax_b = [0,1] # max response, post-normalization maxrespone = ~ 1.25 / 1.3\n",
    "b_b = [0,0.5] # starting value, should be around 0-0.9 ish\n",
    "boundaries=([c50_b[0],n_b[0],Rmax_b[0],b_b[0]], [c50_b[1],n_b[1],Rmax_b[1],b_b[1]]) # Boundary Params for C50, N, Rmax and B\n",
    "startingGuess = [40,0.1,1,0] # Initial guess for 2f params\n",
    "\n",
    "# hyperbolic ratio / naka rushton\n",
    "def naka_rushton(C, C50, n, Rmax, b):\n",
    "    \"\"\"\n",
    "    This function models neural responses captured by Contrast Response Functions\n",
    "    C50 (parameter 1) : Contrast level that yields half of max response (contrast %)\n",
    "    n (parameter 2)   : Determines the curve arc for fitting (small integer)\n",
    "    Rmax (Parameter 3): Max response elicited (mv)\n",
    "    b (Parameter 4)   : Starting value (origin)\n",
    "    \"\"\"\n",
    "    return ((Rmax * (( C ** n) / ( C50 ** n + C ** n))) + b)\n",
    "#############################################################\n",
    "def NakaRushtonDataFrames(condDataIn, HemiBool,AttnBool,subs):\n",
    "    NakaDataFrames = []\n",
    "    FitValues_mat= np.zeros((4,7))\n",
    "\n",
    "    for SubjInfIn in range(int(len(subs))):\n",
    "        dataIn = condDataIn[SubjInfIn,:]\n",
    "\n",
    "        FitValues_mat[:,0] = Subj_Ids[SubjInfIn] # subject identification\n",
    "        FitValues_mat[:,1] = HarmonicValIn # enter hamronic informaiton\n",
    "        FitValues_mat[:,2] = AttnBool  #attnTo info \n",
    "        FitValues_mat[:,3] =  HemiBool #Hemifield info\n",
    "        FitValues_mat[:,4] =  np.array(np.arange(0,4,1)) # 0 = c50, 1 = n, 2 = -rmax, 3 = b\n",
    "        FitValues_mat[:,5] = dataIn[0,:] # pre nk paramters \n",
    "        FitValues_mat[:,6] = dataIn[1,:] # post nr parameters\n",
    "\n",
    "        NakaDataFrames.append(FitValues_mat)\n",
    "\n",
    "    return NakaDataFrames"
   ]
  },
  {
   "cell_type": "code",
   "execution_count": 59,
   "metadata": {},
   "outputs": [],
   "source": [
    "# to organizze data for fitting: saturtion index and sorting \n",
    "def CombinePrePostResponses(DataIn, Cond2Import, HarmonicIndex):\n",
    "    \"\"\"combine data sets in terms of attention and hemifield, sorting ONLY\n",
    "        returns: [Subject x preopst x sweep] array\n",
    "    \"\"\"\n",
    "    Rows = int(len(DataIn))\n",
    "    Cols = 2\n",
    "    Data_PrePost_Mat = np.zeros((Rows,Cols,6)) # numsubs x contrasts            \n",
    "    for combine in range(len(DataIn)):\n",
    "        Data_PrePost_Mat[combine,:,:] = DataIn[combine][Cond2Import][HarmonicIndex,:,:]\n",
    "    return Data_PrePost_Mat"
   ]
  },
  {
   "cell_type": "code",
   "execution_count": 60,
   "metadata": {},
   "outputs": [],
   "source": [
    "'Obtain Root Mean Square Acoss all harmonics of interest'\n",
    "def Init_RMS(DataF,Subj,ExptCo,Pick_hSum):\n",
    "    '''This function obtins the Root Mean Square of a single particpant for a single\n",
    "    hemifield condition\n",
    "    INPUT:\n",
    "    DataF, Subj, ExptCo = DataString[Subj][ExptCo] = [Harmonic x PrePost x Sweep] Array\n",
    "    Pick_hSum = range to index harmonics to perform RMS \n",
    "\n",
    "    RETURNS: \n",
    "    A [2x6] array '''\n",
    "    # print(f'Harmonics to selected for RMS :{Pick_hSum+1}')\n",
    "\n",
    "    Sweep_Mat = DataF[Subj][ExptCo][Pick_hSum,:,]\n",
    "    dims = Sweep_Mat.shape # [harmonic range x prepost x sweeps]\n",
    "\n",
    "    RMS_Mat = np.zeros((int(dims[1]),int(dims[2]))) # Pre RMS and Post RMS \n",
    "\n",
    "    for prepost in range(dims[1]):\n",
    "        PowerMat = np.square(Sweep_Mat[:,prepost,:]) # squares harmonics \n",
    "        # SumMat = np.sum((PowerMat),axis = (0,1)) # summed harmonics 6 vals -> 1 single value\n",
    "        SumMat = np.sum((PowerMat),axis = 0) # summed harmonics 6 vals -> 1 single value\n",
    "        DivMat = SumMat / (int(dims[0])) # (optinal)- divide by # of harmonics\n",
    "        RMS_Mat[prepost,:] = np.sqrt(DivMat)\n",
    "        # plt.plot(RMS_Mat[prepost,:], label = f'{prepost}')\n",
    "\n",
    "    return RMS_Mat"
   ]
  },
  {
   "cell_type": "code",
   "execution_count": 61,
   "metadata": {},
   "outputs": [],
   "source": [
    "def Store_SaturationIndex_Information(dataIn):\n",
    "    \"\"\"This function calculates the saturation index for pre and post contrast reponse functions \n",
    "        per particpant per condition if it is looped properly.\n",
    "        Returns: Saturation index calulated for both pre and post CRF's + Location where the maximum reponse was found\"\"\"\n",
    "\n",
    "    PrePost_SaturationValues = np.zeros((int(dataIn.shape[0]),2)) #[subjx xsaturation index values]  # saturation index evaluation\n",
    "    PrePost_SaturationValues_LocInstance = np.zeros((int(dataIn.shape[0]),2)) #[subj x saturation index values] # where saturation occured\n",
    "    PrePost_MaxCRF_Val = np.zeros((int(dataIn.shape[0]),2))\n",
    "\n",
    "    for CRF_SaturationEval in range(dataIn.shape[0]): # iterate through all subjects\n",
    "        for prepost in range(2): # iterate through pre post crfs\n",
    "            \n",
    "            crf_data = dataIn[CRF_SaturationEval,prepost] # import 1 crf per iter\n",
    "\n",
    "            MaxResponseLoc = np.argmax(crf_data) # find where maximum response is\n",
    "            MaxResponseVal = crf_data[np.argmax(crf_data)] # find what ax response was given the locaiton\n",
    "\n",
    "            Response_at_100 = crf_data[5] # response at 100% contrast\n",
    "\n",
    "            pseudo_C50 = crf_data[3] # reponse at 60% contrast, not 40% or 50% (we dont have 50% :())\n",
    "            #SI_response_change = (Response_at_100 - pseudo_C50)/ MaxResponseVal # Saturation Index Computation (Ledgeway et al. 2005) \n",
    "            PrePost_MaxCRF_Val[CRF_SaturationEval,prepost] = MaxResponseVal\n",
    "            PrePost_SaturationValues[CRF_SaturationEval,prepost] = (Response_at_100 - pseudo_C50)/ MaxResponseVal #store satruation index \n",
    "            PrePost_SaturationValues_LocInstance[CRF_SaturationEval,prepost] = MaxResponseLoc # store contrast with saturation index    \n",
    "\n",
    "    return PrePost_SaturationValues, PrePost_SaturationValues_LocInstance, PrePost_MaxCRF_Val"
   ]
  },
  {
   "cell_type": "code",
   "execution_count": 62,
   "metadata": {},
   "outputs": [],
   "source": [
    "# make empty bool to index saturating group and non saturarating crf group for analysis\n",
    "def GetSaturationIndex_Bool(SaturationValuesIn, CRFs_In): \n",
    "    \"\"\"Since there are many contrast response functions to analyze, here we make a bool for what CRF's displayed\n",
    "        suspersturation.\n",
    "        Returns: A binary array to index saturation and +increasing CRFs for pre and post CRFs\n",
    "        1 == Saturation was present, 0 == Consistent + Increasing CRF\n",
    "        Note: Make sure to remove nan subjs bc they are automatically assigned to SI = 0\"\"\"\n",
    "    Saturation_Bool_PrePost = np.zeros((SaturationValuesIn.shape[0],2)) # bool index, 1 == saturation, 0 = no saturation identified\n",
    "    #print(Saturation_Bool_PrePost.shape) # [subs (38) , saturation index bool to fill]\n",
    "\n",
    "    for prepost in range(2):\n",
    "        for xSubiters in range(CRFs_In.shape[0]):\n",
    "            SatIndex = SaturationValuesIn[xSubiters,prepost]\n",
    "            if SatIndex < 0: # if a value is less than 0, append to saturation group \n",
    "                #print(f'saturation occured in subject {subjectCRF}')\n",
    "                Saturation_Bool_PrePost[xSubiters,prepost] = 1\n",
    "            else: # or else keep as a linear increase crf, as expected\n",
    "                Saturation_Bool_PrePost[xSubiters,prepost] = 0\n",
    "    Saturation_Bool_Total = np.sum(Saturation_Bool_PrePost,axis = 1) # returns 0,1,2  | 0 = No saturation, 2 = Saturation on all CRF's\n",
    "\n",
    "    return Saturation_Bool_PrePost,Saturation_Bool_Total"
   ]
  },
  {
   "cell_type": "code",
   "execution_count": 63,
   "metadata": {},
   "outputs": [],
   "source": [
    "def SaturationIndex_3Fold(SaturationIndexScores):\n",
    "    \"\"\"This function obtains the post-pre SI score for each condition \n",
    "    RETURNS: \"\"\"\n",
    "    # get number of subject in condition, exclude nans (missing files )\n",
    "    NumObservations = np.sqrt(np.count_nonzero(~np.isnan(SaturationIndexScores[:,0]))) # get number of subjs\n",
    "    # get SI Score Pre\n",
    "    Pre_SI_Score = np.nanmean(SaturationIndexScores[:,0]) # 1 value\n",
    "    # get SI Score Post\n",
    "    Post_Si_Score = np.nanmean(SaturationIndexScores[:,1])# 1 value\n",
    "    # get SI change pre to post for each subject\n",
    "    SI_ScoreChange = np.nanmean(SaturationIndexScores[:,1] - SaturationIndexScores[:,0])# 1 value\n",
    "\n",
    "    # get pre errorbars by calculating std and dividing by the sqrt(numsubs)\n",
    "    Pre_SI_ErrorBars = np.nanstd(SaturationIndexScores[:,0],axis = 0) / NumObservations# 1 value\n",
    "    # get pre errorbars by calculating std and dividing by the sqrt(numsubs)\n",
    "    Post_SI_ErrorBars = np.nanstd(SaturationIndexScores[:,1],axis=0) / NumObservations# 1 value\n",
    "    # get post-pre errorbars by calculating std and dividing by the sqrt(numsubs)\n",
    "    SI_ErrorBars = np.nanstd(SaturationIndexScores[:,1] - SaturationIndexScores[:,0]) / NumObservations # 1 value\n",
    "\n",
    "    PrePostDiff_Array = np.array((Pre_SI_Score,Post_Si_Score,SI_ScoreChange))\n",
    "    PrePostDiff_EB = np.array((Pre_SI_ErrorBars,Post_SI_ErrorBars,SI_ErrorBars))\n",
    "\n",
    "    return PrePostDiff_Array,PrePostDiff_EB\n",
    "###################################################################\n",
    "# based on supersaterating responses, fix respones based on rmax\n",
    "def SaturationFix_CRF(crf,SI):\n",
    "    \"\"\"This function detects rmax value and location, and replaces the crf values for saturating data\n",
    "    crf = contrast response function data (len 4, subj x prepost x sweep data)\n",
    "    SI = saturation index (len 4)\n",
    "    \"\"\"\n",
    "    DataIn = np.array(crf) # pre post contrast repsonse functions \n",
    "    SI_In = np.array(SI) # saturation index for pre post\n",
    "\n",
    "    DataOut = np.zeros_like(DataIn)\n",
    "\n",
    "    for x in range(DataIn.shape[0]):\n",
    "        for prepost in range(2):\n",
    "            if SI_In[x,prepost] < 0:\n",
    "                crf_rmax = np.max(DataIn[x,prepost])\n",
    "                crf_rmax_pos = np.argmax(DataIn[x,prepost])\n",
    "                DataOut[x,prepost,0:crf_rmax_pos] = DataIn[x,prepost,0:crf_rmax_pos]\n",
    "                DataOut[x,prepost,crf_rmax_pos:] = crf_rmax\n",
    "                \n",
    "            elif SI_In[x,prepost] == np.isnan:\n",
    "                DataOut[x,prepost,:] = np.nan\n",
    "\n",
    "            else:\n",
    "                DataOut[x,prepost,:] = DataIn[x,prepost]\n",
    "\n",
    "    return DataOut"
   ]
  },
  {
   "cell_type": "markdown",
   "metadata": {},
   "source": [
    "#### ***Normalize CRF Based on Pre for 1st session***"
   ]
  },
  {
   "cell_type": "code",
   "execution_count": 64,
   "metadata": {},
   "outputs": [],
   "source": [
    "def CombinePrePostResponses_PreS1Norm(DataIn,CoX):\n",
    "    Rows = int(len(DataIn))\n",
    "    Cols = 2\n",
    "    Data_PrePost_Mat = np.zeros((Rows,Cols,6)) # numsubs x contrasts\n",
    "           \n",
    "    for combine in range(Rows):\n",
    "        Data_PrePost_Mat[combine,:,:] = DataIn[combine][CoX]\n",
    "    print(Data_PrePost_Mat.shape)\n",
    "\n",
    "    return Data_PrePost_Mat"
   ]
  },
  {
   "cell_type": "markdown",
   "metadata": {},
   "source": [
    "## **Import File to Process**"
   ]
  },
  {
   "cell_type": "code",
   "execution_count": 65,
   "metadata": {},
   "outputs": [
    {
     "name": "stdout",
     "output_type": "stream",
     "text": [
      "Avilable Files to choose from: 9\n",
      "Files on hand: ['ChronoTime_SSRP_ExptGroup_RCA1_CRF__20240805_164619.pkl', 'Pilot_ChronoTime_SSRP_ExptGroup_RCA1_CRF__20240807_135143.pkl', 'SSRP_CntrlGroup_RCA1_CRF_20240627_150221.pkl', 'SSRP_CntrlGroup_RCA2_CRF_20240627_150307.pkl', 'SSRP_ExptGroup_RCA1_CRF_20240627_145808.pkl', 'SSRP_ExptGroup_RCA1_CRF_20240731_161942.pkl', 'SSRP_ExptGroup_RCA1_CRF_20240731_215524.pkl', 'SSRP_ExptGroup_RCA1_CRF_20240802_170321.pkl', 'SSRP_ExptGroup_RCA2_CRF_20240627_150025.pkl']\n",
      "Pilot_ChronoTime_SSRP_ExptGroup_RCA1_CRF__20240807_135143.pkl\n",
      "Group Imported: RCA1 CRF\n",
      "Keys Avialable: dict_keys(['F1_Norm_CRF', 'F2_Norm_CRF', 'F1_Diffs', 'F2_Diffs', 'F1_CRF', 'F2_CRF', 'F1_Raw_Diffs', 'F2_Raw_Diffs', 'File_Location_Indicies', 'File_Location_ChronologicalTime', 'Subj_Num_Ids', 'SessionDelayGroups', 'ChronoTime_EAttn_xptSessionCondtion', 'ExptNotes'])\n",
      "{'This file contains no omission of trials'}\n"
     ]
    }
   ],
   "source": [
    "# Main Directory of processed file from MatLab\n",
    "MainDir = 'C:\\\\plimon\\\\SSRP_analysis_branch\\\\Contrast_Response_Functions\\\\' # set dir - on my computer\n",
    "os.chdir(MainDir) # change old dir, to this dir\n",
    "d = os.listdir(MainDir) # list files in dir\n",
    "print(f'Avilable Files to choose from: {len(d)}')\n",
    "print(f'Files on hand: {d}')\n",
    "##############################################\n",
    "FileN_f1 = d[1] #  data    \n",
    "print(FileN_f1) \n",
    "file_path1 = os.path.join(MainDir, FileN_f1) # join paths and prep 2 load\n",
    "print( 'Group Imported:', file_path1.split('_')[-5], file_path1.split('_')[-4])\n",
    "loadData = pkl.load(open(file_path1, 'rb'))\n",
    "print('Keys Avialable:', loadData.keys())\n",
    "print({loadData['ExptNotes']})"
   ]
  },
  {
   "cell_type": "markdown",
   "metadata": {},
   "source": [
    "## **Define Specific Data Options**"
   ]
  },
  {
   "cell_type": "code",
   "execution_count": 66,
   "metadata": {},
   "outputs": [],
   "source": [
    "'Remove Sbbjs who only completed 1 session'\n",
    "Exclude_Single_Subjs = 'y'\n",
    "'Enter Harmonic Data to plot' # 0 = 2nd harmonic , 3 = 4th Harmonic\n",
    "HarmonicValIn = 0\n",
    "'Visualize data in order of session completion of attn deployment'\n",
    "Method = 'Order'# 'AttnDeplyment'\n",
    "'Export Processed Data?'\n",
    "saveFile = 'n'"
   ]
  },
  {
   "cell_type": "markdown",
   "metadata": {},
   "source": [
    "### *Set Basic Plotting themes and colors*"
   ]
  },
  {
   "cell_type": "code",
   "execution_count": 67,
   "metadata": {},
   "outputs": [],
   "source": [
    "custom = {\"axes.edgecolor\": \"black\", \"grid.linestyle\": \"dashed\", \"grid.color\": \"white\"}\n",
    "sns.set_style(\"darkgrid\", rc = custom)"
   ]
  },
  {
   "cell_type": "code",
   "execution_count": 68,
   "metadata": {},
   "outputs": [
    {
     "data": {
      "image/png": "[encoded data removed]",
      "text/plain": [
       "<Figure size 2000x100 with 1 Axes>"
      ]
     },
     "metadata": {},
     "output_type": "display_data"
    }
   ],
   "source": [
    "sess_colors = ['white','green','blue','orange','purple','yellow']\n",
    "# Number of colors needed in the spectrum\n",
    "num_colors = 20\n",
    "sess_fill = sns.blend_palette(sess_colors, n_colors=num_colors, as_cmap=False)\n",
    "sns.palplot(sess_fill)\n",
    "plt.show()\n",
    "# colors2rep = bar_fill[9:12]#[5:8]\n",
    "# color_patt = colors2rep*6\n",
    "# sns.palplot(color_patt)\n",
    "\n",
    "set1 = [1,5]\n",
    "set2 = [8,9]\n",
    "set3 = [12,13]\n",
    "set4 = [18,17]\n",
    "\n",
    "s_color = [set1,set2,set3,set4]"
   ]
  },
  {
   "cell_type": "markdown",
   "metadata": {},
   "source": [
    "### *Set Fixed Parameters for  Hyperbolic Ratio / Naka Rushton Fits*"
   ]
  },
  {
   "cell_type": "code",
   "execution_count": 69,
   "metadata": {},
   "outputs": [],
   "source": [
    "# experimental conditions if interest \n",
    "Condition_Label = ['Pot, A+', 'Non-Pot, A-', 'Pot, A-', 'Non-Pot, A+'] \n",
    "SessionDelay_Label = ['1-2 Days','3-5 days','7-10 Days','12-37 Days']\n",
    "# pre post induction labels\n",
    "crf_label = ['pre','post']\n",
    "# sweep contrast labels\n",
    "contrast_labs = ['1%','2.5%','6.3%','15.8%','39.8%','100%']\n",
    "# set colors for plotting \n",
    "color_set = [3,6,12,13]"
   ]
  },
  {
   "cell_type": "code",
   "execution_count": 70,
   "metadata": {},
   "outputs": [
    {
     "name": "stdout",
     "output_type": "stream",
     "text": [
      "length of x array for contrasts:  (1000,)\n"
     ]
    }
   ],
   "source": [
    "# array for smoothing fit functions to CRF data \n",
    "ContrastArr = np.array(np.arange(0.0,100,0.1)) # all contrast from 1% - 100% - ~1k data points\n",
    "ContrastEnd = (ContrastArr.shape[0])\n",
    "print('length of x array for contrasts: ', ContrastArr.shape)\n",
    "\n",
    "x1 = np.linspace(0, 100, 6) # all 6 contrasts (pre fit array)\n",
    "x2 = np.linspace(0, 100, ContrastEnd) # all 100 contrasts (post-fit array for smoothing)\n",
    "contrast_levels = [1,2.5,6.3,15.8,39.8,100]\n",
    "param_names = ['C50','n','Rmax','b'] # naka rushton fit labels "
   ]
  },
  {
   "cell_type": "code",
   "execution_count": 71,
   "metadata": {},
   "outputs": [],
   "source": [
    "\n",
    "# def naka_rushton_saturation(C,C50,n,Rmax,b,s):\n",
    "#     \"\"\"\n",
    "#     This function models neural responses captured by Contrast Response Functions with \n",
    "#     1 extra parameter to fit supersaturating CRF towards higher contrasts\n",
    "#     NOTE: The extra parameters means that all 4 values from this fit are DIFFERENT interpretations of original NR funct.\n",
    "#      C50 (parameter 1) : Contrast level that yields half of max response (contrast %)\n",
    "#     n (parameter 2)   : Determines the curve arc for fitting (small integer)\n",
    "#     Rmax (Parameter 3): Max response elicited (mv)\n",
    "#     b (Parameter 4)   : Starting value (origin)\n",
    "#     s (Parameter 5)   : saturation index\n",
    "#     \"\"\"\n",
    "#     return ((Rmax * (( C ** n) / ( C50 ** (s*n) + C ** (s*n)))) + b)"
   ]
  },
  {
   "cell_type": "code",
   "execution_count": 72,
   "metadata": {},
   "outputs": [],
   "source": [
    "# dataIn = PrePostConditionData[0] #[38,2,6]\n",
    "# # [38, 2]\n",
    "# PrePost_SaturationValues = np.zeros((int(dataIn.shape[0]),2)) #[subjx xsaturation index values]  # saturation index evaluation\n",
    "# # [38,2]\n",
    "# PrePost_SaturationValues_LocInstance = np.zeros((int(dataIn.shape[0]),2)) #[subj x saturation index values] # where saturation occured\n",
    "\n",
    "# for CRF_SaturationEval in range(2):#range(dataIn.shape[0]): # iterate through all subjects\n",
    "#     for prepost in range(2): # iterate through pre post crfs\n",
    "\n",
    "#         crf_data = dataIn[CRF_SaturationEval,prepost] # import 1 crf per iter (6 contrasts)\n",
    "\n",
    "#         MaxResponseLoc = np.argmax(crf_data) # find where maximum response is\n",
    "#         MaxResponseVal = crf_data[np.argmax(crf_data)] # find what ax response was given the locaiton\n",
    "\n",
    "#         # compute saturation index\n",
    "#         Response_at_100 = crf_data[5] # response at 100% contrast\n",
    "#         pseudo_C50 = crf_data[3] # reponse at 60% contrast, not 40% or 50% (we dont have 50% :())\n",
    "#         #SI_response_change = (Response_at_100 - pseudo_C50)/ MaxResponseVal # Saturation Index Computation (Ledgeway et al. 2005) \n",
    "#         PrePost_SaturationValues[CRF_SaturationEval,prepost] = (Response_at_100 - pseudo_C50)/ MaxResponseVal #store satruation index \n",
    "#         PrePost_SaturationValues_LocInstance[CRF_SaturationEval,prepost] = MaxResponseLoc # store contrast with saturation index  \n",
    "# print(PrePost_SaturationValues_LocInstance)"
   ]
  },
  {
   "cell_type": "code",
   "execution_count": 73,
   "metadata": {},
   "outputs": [],
   "source": [
    "# def SaturationFix_CRF(crf,SI):\n",
    "#     \"\"\"This function detects rmax value and location, and replaces the crf values for saturating data\n",
    "#     crf = contrast response function data (len 4, subj x prepost x sweep data)\n",
    "#     SI = saturation index (len 4)\n",
    "#     \"\"\"\n",
    "#     DataIn = np.array(crf) # pre post contrast repsonse functions \n",
    "#     SI_In = np.array(SI) # saturation index for pre post\n",
    "\n",
    "#     DataOut = np.zeros_like(DataIn)\n",
    "\n",
    "#     for x in range(DataIn.shape[0]):\n",
    "#         for prepost in range(2):\n",
    "#             if SI_In[x,prepost] == 1:\n",
    "#                 crf_rmax = np.max(DataIn[x,prepost])\n",
    "#                 crf_rmax_pos = np.argmax(DataIn[x,prepost])\n",
    "#                 DataOut[x,prepost,0:crf_rmax_pos] = DataIn[x,prepost,0:crf_rmax_pos]\n",
    "#                 DataOut[x,prepost,crf_rmax_pos:] = crf_rmax\n",
    "#             else:\n",
    "#                 DataOut[x,prepost,:] = DataIn[x,prepost]\n",
    "\n",
    "#     return DataOut"
   ]
  },
  {
   "cell_type": "markdown",
   "metadata": {},
   "source": [
    "### *Import Processed, Normalized Contrast Response Function Data and sort*"
   ]
  },
  {
   "cell_type": "code",
   "execution_count": 74,
   "metadata": {},
   "outputs": [],
   "source": [
    "# indexing certain harmonics ,,,, note sure if this does anything here tho \n",
    "# Harmonic_Range_To_Include = np.arange(0,2)\n",
    "# NR_Harmonic_Range = Harmonic_Range_To_Include\n",
    "# FirstIndex = int(NR_Harmonic_Range[0])\n",
    "# LastIndex = int(NR_Harmonic_Range [1] + 1)"
   ]
  },
  {
   "cell_type": "code",
   "execution_count": 75,
   "metadata": {},
   "outputs": [
    {
     "name": "stdout",
     "output_type": "stream",
     "text": [
      "66 66\n"
     ]
    }
   ],
   "source": [
    "# subject names and arrays to index attnL and attnR expts\n",
    "File_Pos = loadData['File_Location_Indicies']\n",
    "SessionDelayArr = loadData['SessionDelayGroups']\n",
    "# subject array indexing location for 1st sesison completed and 2nd sesison completed\n",
    "File_Pos_ChronologTime = loadData['File_Location_ChronologicalTime']\n",
    "Subj_Ids = loadData['Subj_Num_Ids']\n",
    "# clean pre post CRF's\n",
    "F1_Responses = loadData['F1_Norm_CRF']\n",
    "F2_Responses = loadData['F2_Norm_CRF']\n",
    "# print(len(F1_Responses),len(F2_Responses))\n",
    "# Original CRF's\n",
    "# F1_Responses = loadData['F1_CRF']\n",
    "# F2_Responses = loadData['F2_CRF']\n",
    "print(len(F1_Responses),len(F2_Responses))"
   ]
  },
  {
   "cell_type": "code",
   "execution_count": 76,
   "metadata": {},
   "outputs": [
    {
     "data": {
      "text/plain": [
       "'show session order 1st then 2nd visit and show what delay group they belong in'"
      ]
     },
     "execution_count": 76,
     "metadata": {},
     "output_type": "execute_result"
    }
   ],
   "source": [
    "AttnX_Indicies =  loadData['ChronoTime_EAttn_xptSessionCondtion']\n",
    "'show session order 1st then 2nd visit and show what delay group they belong in' \n",
    "# print(AttnX_Indicies)\n",
    "# print(SessionDelayArr)"
   ]
  },
  {
   "cell_type": "code",
   "execution_count": 77,
   "metadata": {},
   "outputs": [],
   "source": [
    "# serve as empty arrays for files that do not exist (ie: second sesion)\n",
    "crf_nans = np.zeros((4,2,6))\n",
    "diff_nans = np.zeros((4,6))\n",
    "crf_nans[:] = np.nan\n",
    "diff_nans[:] = np.nan"
   ]
  },
  {
   "cell_type": "markdown",
   "metadata": {},
   "source": [
    "#### **Enter what type of file positon to investigate**"
   ]
  },
  {
   "cell_type": "code",
   "execution_count": 78,
   "metadata": {},
   "outputs": [
    {
     "name": "stdout",
     "output_type": "stream",
     "text": [
      "Order\n"
     ]
    }
   ],
   "source": [
    "#File_Pos  = to  sort data by attnL and then attnR\n",
    "#File_Pos_ChronologTime  = to sort data based on what session was completed first\n",
    "#File_Index = File_Pos_ChronologTime\n",
    "if Method == 'Order':\n",
    "    File_Index = File_Pos_ChronologTime\n",
    "if Method == 'AttnDeplyment':\n",
    "    File_Index = File_Pos\n",
    "    \n",
    "print(Method)\n",
    "# print(File_Index)"
   ]
  },
  {
   "cell_type": "markdown",
   "metadata": {},
   "source": [
    "### **Combine File Positon and Data Grouping!**"
   ]
  },
  {
   "cell_type": "code",
   "execution_count": 79,
   "metadata": {},
   "outputs": [
    {
     "name": "stdout",
     "output_type": "stream",
     "text": [
      "[[ 0.  1.  1.]\n",
      " [ 2.  3.  2.]\n",
      " [ 4.  5.  1.]\n",
      " [ 6.  7.  2.]\n",
      " [ 8.  9.  2.]\n",
      " [10. 11.  2.]\n",
      " [12. 13.  2.]\n",
      " [14. 15.  0.]\n",
      " [16. nan nan]\n",
      " [18. 17.  0.]\n",
      " [nan nan nan]\n",
      " [22. 21.  0.]\n",
      " [24. 23.  1.]\n",
      " [26. 25.  1.]\n",
      " [28. 27.  0.]\n",
      " [30. 29.  1.]\n",
      " [32. 31.  0.]\n",
      " [34. 33.  3.]\n",
      " [35. 36.  0.]\n",
      " [38. 37.  1.]\n",
      " [39. 40.  1.]\n",
      " [nan 41. nan]\n",
      " [43. 42.  0.]\n",
      " [nan 44. nan]\n",
      " [46. 45.  0.]\n",
      " [48. 47.  2.]\n",
      " [49. 50.  0.]\n",
      " [51. nan nan]\n",
      " [52. nan nan]\n",
      " [53. nan nan]\n",
      " [nan 54. nan]\n",
      " [55. nan nan]\n",
      " [57. 56.  3.]\n",
      " [58. nan nan]\n",
      " [59. nan nan]\n",
      " [60. 61.  3.]\n",
      " [62. 63.  0.]\n",
      " [64. 65.  3.]]\n"
     ]
    }
   ],
   "source": [
    "Subject_DataGrouping = np.concatenate((File_Index,SessionDelayArr),axis = 1)\n",
    "'Subject_DataGrouping[:,0]== 1st session file position'\n",
    "'Subject_DataGrouping[:,0]== 2nd session file position'\n",
    "'Subject_DataGrouping[:,0]== SessionReturn Delay group they belong to'\n",
    "'visual inspection that everything was done correctly'\n",
    "print(Subject_DataGrouping)"
   ]
  },
  {
   "cell_type": "markdown",
   "metadata": {},
   "source": [
    "### **To remove subjects who only completed 1 session:**"
   ]
  },
  {
   "cell_type": "code",
   "execution_count": 80,
   "metadata": {},
   "outputs": [
    {
     "name": "stdout",
     "output_type": "stream",
     "text": [
      "AttnL session counts: 34\n",
      "AttnR session counts: 30\n"
     ]
    }
   ],
   "source": [
    "# print(File_Index)\n",
    "# Pre Exlusion logis. \n",
    "print(f'AttnL session counts: {np.sum(~np.isnan(File_Index[:,0]))}')\n",
    "print(f'AttnR session counts: {np.sum(~np.isnan(File_Index[:,1]))}')"
   ]
  },
  {
   "cell_type": "code",
   "execution_count": 81,
   "metadata": {},
   "outputs": [
    {
     "name": "stdout",
     "output_type": "stream",
     "text": [
      "removing participants who only completed 1 session\n",
      "11\n",
      "Subjs Remaining for analysis: 27\n"
     ]
    }
   ],
   "source": [
    "if Exclude_Single_Subjs == 'y':\n",
    "    print(f'removing participants who only completed 1 session')\n",
    "    # bool to rnm subjs who only completed 1 session\n",
    "    propagate_NaNs = np.isnan(File_Index).any(axis = 1)\n",
    "    print(np.sum(propagate_NaNs[:]))\n",
    "    File_Index[propagate_NaNs] = np.nan\n",
    "    AttnX_Indicies[propagate_NaNs] = np.nan\n",
    "    print(f'Subjs Remaining for analysis: {np.sum(~np.isnan(File_Index[:,0]))}')"
   ]
  },
  {
   "cell_type": "code",
   "execution_count": 82,
   "metadata": {},
   "outputs": [
    {
     "name": "stdout",
     "output_type": "stream",
     "text": [
      "Both AttnL and AttnR files are missing, now replacing all data ...\n",
      "[nan nan]\n",
      "Both AttnL and AttnR files are missing, now replacing all data ...\n",
      "[nan nan]\n",
      "Both AttnL and AttnR files are missing, now replacing all data ...\n",
      "[nan nan]\n",
      "Both AttnL and AttnR files are missing, now replacing all data ...\n",
      "[nan nan]\n",
      "Both AttnL and AttnR files are missing, now replacing all data ...\n",
      "[nan nan]\n",
      "Both AttnL and AttnR files are missing, now replacing all data ...\n",
      "[nan nan]\n",
      "Both AttnL and AttnR files are missing, now replacing all data ...\n",
      "[nan nan]\n",
      "Both AttnL and AttnR files are missing, now replacing all data ...\n",
      "[nan nan]\n",
      "Both AttnL and AttnR files are missing, now replacing all data ...\n",
      "[nan nan]\n",
      "Both AttnL and AttnR files are missing, now replacing all data ...\n",
      "[nan nan]\n",
      "Both AttnL and AttnR files are missing, now replacing all data ...\n",
      "[nan nan]\n"
     ]
    }
   ],
   "source": [
    "# sort! \n",
    "CRF_IndividualResponses_Sorted = []\n",
    "\n",
    "for iter in range(len(Subj_Ids)):\n",
    "\n",
    "    Subj_Title = Subj_Ids[iter] # subject \n",
    "    Indiv_File_Locations = File_Index[iter,:] # import file locations for data\n",
    "    AttendL_Condition = Indiv_File_Locations[0] # attnL file\n",
    "    AttendR_Condition = Indiv_File_Locations[1] # attnR file\n",
    "\n",
    "    # If both locations contain NaNs, replace all data\n",
    "    if np.isnan(AttendL_Condition) and np.isnan(AttendR_Condition):\n",
    "        CRF_Set = [crf_nans, crf_nans, crf_nans, crf_nans]\n",
    "        print('Both AttnL and AttnR files are missing, now replacing all data ...')\n",
    "        print(Indiv_File_Locations)\n",
    "    #If the first position contains a NaN, replace with NaN data for F1 and F2\n",
    "    elif np.isnan(AttendL_Condition):\n",
    "        #print('Attn L file is missing, now replacing ...')\n",
    "        #print(Indiv_File_Locations)\n",
    "        CRF_Set = [crf_nans, crf_nans, F1_Responses[int(AttendR_Condition)], F2_Responses[int(AttendR_Condition)]]\n",
    "    # If the second position contains a NaN, replace with NaN data for F1 and F2\n",
    "    elif np.isnan(AttendR_Condition):\n",
    "        #print('Attn R file is missing, now replacing ...')\n",
    "        #print(Indiv_File_Locations)\n",
    "        CRF_Set = [F1_Responses[int(AttendL_Condition)], F2_Responses[int(AttendL_Condition)], crf_nans, crf_nans]\n",
    "    else:\n",
    "        #print('Both AttnL and AttnR files are present.')\n",
    "        #print(Indiv_File_Locations)\n",
    "        CRF_Set = [F1_Responses[int(AttendL_Condition)], F2_Responses[int(AttendL_Condition)], F1_Responses[int(AttendR_Condition)], F2_Responses[int(AttendR_Condition)]]\n",
    "        \n",
    "    CRF_IndividualResponses_Sorted.append(CRF_Set)"
   ]
  },
  {
   "cell_type": "markdown",
   "metadata": {},
   "source": [
    "#### **Get Root Mean Square Data for each subj for each condition**"
   ]
  },
  {
   "cell_type": "code",
   "execution_count": 83,
   "metadata": {},
   "outputs": [],
   "source": [
    "# test = Init_RMS(DataF = CRF_IndividualResponses_Sorted, Subj = 10, ExptCo = 0, Pick_hSum=np.arange(0,2,1))\n",
    "RMS_ConditionData = []\n",
    "\n",
    "for Condition_Xiter in range(4):\n",
    "\n",
    "    SubjRMSData = np.zeros((int(len(CRF_IndividualResponses_Sorted)),2,6))\n",
    "\n",
    "    for NumSubs in range((int(len(CRF_IndividualResponses_Sorted)))):\n",
    "        SubjRMSData[NumSubs,:,:] = Init_RMS(DataF = CRF_IndividualResponses_Sorted, Subj = NumSubs, ExptCo = Condition_Xiter, Pick_hSum=np.arange(0,4,1))\n",
    "\n",
    "    RMS_ConditionData.append(SubjRMSData)"
   ]
  },
  {
   "cell_type": "code",
   "execution_count": 84,
   "metadata": {},
   "outputs": [
    {
     "data": {
      "text/plain": [
       "Text(0.5, 0.98, '2F-8F')"
      ]
     },
     "execution_count": 84,
     "metadata": {},
     "output_type": "execute_result"
    },
    {
     "data": {
      "image/png": "[encoded data removed]",
      "text/plain": [
       "<Figure size 1600x400 with 4 Axes>"
      ]
     },
     "metadata": {},
     "output_type": "display_data"
    }
   ],
   "source": [
    "fig,axs = plt.subplots(1,4,figsize = ((16,4)), sharey = True)\n",
    "temptitle = '2F-8F'\n",
    "for NumConds in range(4):\n",
    "    for prepost in range(2):\n",
    "        dataIn = RMS_ConditionData[NumConds][:,prepost,:]\n",
    "        avgRMS = np.nanmean(dataIn,axis = 0)\n",
    "        NumObservations = np.sqrt(np.count_nonzero(~np.isnan(dataIn[:,0]))) # get number of subjs\n",
    "        errBars = np.nanstd(dataIn,axis=0)/NumObservations\n",
    "\n",
    "        axs[NumConds].errorbar(np.arange(0,6,1),avgRMS,yerr = errBars,linestyle='--',label =crf_label[prepost], color = sess_fill[prepost+9], linewidth = 2.5)\n",
    "        axs[NumConds].legend()\n",
    "plt.suptitle(f'{temptitle}')\n"
   ]
  },
  {
   "cell_type": "markdown",
   "metadata": {},
   "source": [
    "#### **Calculate Effect Size**"
   ]
  },
  {
   "cell_type": "code",
   "execution_count": 99,
   "metadata": {},
   "outputs": [],
   "source": [
    "diff_per_Group = np.zeros((4))\n",
    "std_per_Group = np.zeros((4))\n",
    "\n",
    "for AbsResponse in range(4):\n",
    "    DataMat = np.array(RMS_ConditionData[AbsResponse])\n",
    "    #print(GetAvg.shape)\n",
    "    pre  = DataMat[:,0,:]\n",
    "    post = DataMat[:,1,:]\n",
    "\n",
    "    std_per_Group[AbsResponse] = np.nanstd(post-pre,axis = (0,1))\n",
    "\n",
    "    diff_per_Group[AbsResponse] = np.nanmean(post-pre,axis = (0,1))"
   ]
  },
  {
   "cell_type": "code",
   "execution_count": 103,
   "metadata": {},
   "outputs": [
    {
     "name": "stdout",
     "output_type": "stream",
     "text": [
      "0.03408413097144433\n"
     ]
    }
   ],
   "source": [
    "# 0 == 'Pot, A+', 1== 'Non-Pot, A-', 2 =='Pot, A-', 3=='Non-Pot, A+'] \n",
    "# left hemifields vs right hemifields\n",
    "g1 = diff_per_Group[0],diff_per_Group[2] \n",
    "g2 = diff_per_Group[1],diff_per_Group[3]\n",
    "stdGroup = [std_per_Group[0],std_per_Group[2]]\n",
    "\n",
    "\n",
    "EffSize = (np.sum(g1)/2 - np.sum(g2)/2 )/ np.sum(stdGroup)/2\n",
    "\n",
    "print(EffSize)"
   ]
  },
  {
   "cell_type": "markdown",
   "metadata": {},
   "source": [
    "#### **End of Calculating Effect Size**"
   ]
  },
  {
   "cell_type": "markdown",
   "metadata": {},
   "source": [
    "#### **End of Computing RMS**"
   ]
  },
  {
   "cell_type": "code",
   "execution_count": null,
   "metadata": {},
   "outputs": [],
   "source": [
    "s1s1_Data = {} # segment data for 1st and 2nd visit\n",
    "\n",
    "for CoX in range(4):\n",
    "    s1s1_Data[CoX] = CombinePrePostResponses(DataIn = CRF_IndividualResponses_Sorted, Cond2Import = int(CoX), HarmonicIndex = 0)"
   ]
  },
  {
   "cell_type": "code",
   "execution_count": null,
   "metadata": {},
   "outputs": [],
   "source": [
    "fig,axs = plt.subplots(1,4,figsize = ((14,4)), sharey = True)\n",
    "Title = '1st Vs 2nd Session Normalized CRFs'\n",
    "prepostPal = 17\n",
    "for x in range(4):\n",
    "    condition = np.array(s1s1_Data[x])\n",
    "    NumObvs = np.sqrt(np.count_nonzero(~np.isnan(condition[:,0,0]))) # get number of subjs\n",
    "    for prepost in range(2):\n",
    "        prepost_avgs = np.nanmean(condition[:,prepost,:],axis = 0)\n",
    "        prepost_stds = np.nanstd(condition[:,prepost,:],axis = 0) / NumObvs\n",
    "        #axs[x].plot(prepost_avgs, label =crf_label[prepost], color = fill[9+prepost])\n",
    "        #axs[x].errorbar(np.arange(0,6,1),prepost_avgs,yerr = prepost_stds,linestyle='--',label =crf_label[prepost], color = fill[13-prepost], linewidth = 2)\n",
    "        axs[x].errorbar(np.arange(0,6,1),prepost_avgs,yerr = prepost_stds,linestyle='--',label =crf_label[prepost], color = sess_fill[prepostPal+prepost], linewidth = 3)\n",
    "        axs[x].set_title(f'{Condition_Label[x]}',fontsize = 15)\n",
    "        axs[x].set_ylabel(f'Amplitude (mV)')\n",
    "        axs[x].set_xlabel(f'Contrast %')\n",
    "        axs[x].set_xticks(ticks = np.arange(0,6,1),labels = contrast_labs)\n",
    "        axs[x].hlines(0,xmin = 0,xmax = 5, color = 'black')\n",
    "        axs[x].legend()\n",
    "    plt.suptitle(f'{Title}', fontsize = 18)"
   ]
  },
  {
   "cell_type": "code",
   "execution_count": null,
   "metadata": {},
   "outputs": [],
   "source": [
    "# print(AttnX_Indicies.shape)\n",
    "# print(File_Index.shape)"
   ]
  },
  {
   "cell_type": "markdown",
   "metadata": {},
   "source": [
    "#### **Vizualize Data Based on 1st VS 2nd Session Visit Performance, Attention Deployment Exposure**"
   ]
  },
  {
   "cell_type": "code",
   "execution_count": null,
   "metadata": {},
   "outputs": [],
   "source": [
    "def Get_X_SessionData(AttnX_Indicies,File_Index,crf_nans,SessionDay):\n",
    "\n",
    "    SessionData_Locs = []\n",
    "    #crf_nans\n",
    "    for attnF in range(File_Index.shape[0]):\n",
    "        SessionImport = AttnX_Indicies[attnF,SessionDay] # import session value \n",
    "        SessionFileLocs = File_Index[attnF,SessionDay] # import sesison file positon\n",
    "        #print(SessionImport,SessionFileLocs)\n",
    "        if np.isnan(SessionFileLocs):\n",
    "            print(f'session does not exist')\n",
    "            ds_set = [crf_nans,crf_nans,crf_nans,crf_nans]\n",
    "            SessionData_Locs.append(ds_set)\n",
    "        else:\n",
    "        # #print(f'{SessionImport},{SessionFileLocs}')\n",
    "            if SessionImport == 100:\n",
    "                print('Attend Left session was first exposure to task')\n",
    "                ds_set = [F1_Responses[int(SessionFileLocs)],F2_Responses[int(SessionFileLocs)],crf_nans,crf_nans]\n",
    "                SessionData_Locs.append(ds_set)\n",
    "            if SessionImport == 200:\n",
    "                print('Attend Right session was first exposure to task')\n",
    "                ds_set = [crf_nans,crf_nans, F1_Responses[int(SessionFileLocs)],F2_Responses[int(SessionFileLocs)]]\n",
    "                SessionData_Locs.append(ds_set)\n",
    "        \n",
    "    return SessionData_Locs"
   ]
  },
  {
   "cell_type": "code",
   "execution_count": null,
   "metadata": {},
   "outputs": [],
   "source": [
    "Sess1_AttnExposure = Get_X_SessionData(AttnX_Indicies,File_Index,crf_nans,SessionDay = 0)\n",
    "Sess2_AttnExposure = Get_X_SessionData(AttnX_Indicies,File_Index,crf_nans,SessionDay = 1)\n",
    "print(len(Sess1_AttnExposure))\n",
    "print(len(Sess2_AttnExposure))"
   ]
  },
  {
   "cell_type": "markdown",
   "metadata": {},
   "source": [
    "##### ***Combine Data Based on attentional deployment based on exposure***\n",
    "#### **Group Data by Condition:  [subj x prepost x sweep]**"
   ]
  },
  {
   "cell_type": "code",
   "execution_count": null,
   "metadata": {},
   "outputs": [],
   "source": [
    "sess1AttnX = {} # attn deployment for 1st session\n",
    "\n",
    "for CoX in range(4):\n",
    "    sess1AttnX[CoX] = CombinePrePostResponses(DataIn = Sess1_AttnExposure, Cond2Import = int(CoX), HarmonicIndex = 0)\n",
    "    #print(sess1AttnX[CoX].shape)"
   ]
  },
  {
   "cell_type": "code",
   "execution_count": null,
   "metadata": {},
   "outputs": [],
   "source": [
    "sess2AttnX = {} # att deployment for 2nd session\n",
    "\n",
    "for CoX in range(4):\n",
    "    sess2AttnX[CoX] = CombinePrePostResponses(DataIn = Sess2_AttnExposure, Cond2Import = int(CoX), HarmonicIndex = 0)\n",
    "    #print(sess1AttnX[CoX].shape)"
   ]
  },
  {
   "cell_type": "code",
   "execution_count": null,
   "metadata": {},
   "outputs": [],
   "source": [
    "def GetAttXSessXPlots(Data2Plot, Title, prepostPal):\n",
    "    fig,axs = plt.subplots(1,4,figsize = ((14,4)), sharey = True)\n",
    "\n",
    "    for x in range(4):\n",
    "        condition = np.array(Data2Plot[x])\n",
    "        NumObvs = np.sqrt(np.count_nonzero(~np.isnan(condition[:,0,0]))) # get number of subjs\n",
    "        for prepost in range(2):\n",
    "            prepost_avgs = np.nanmean(condition[:,prepost,:],axis = 0)\n",
    "            prepost_stds = np.nanstd(condition[:,prepost,:],axis = 0) / NumObvs\n",
    "            #axs[x].plot(prepost_avgs, label =crf_label[prepost], color = fill[9+prepost])\n",
    "            #axs[x].errorbar(np.arange(0,6,1),prepost_avgs,yerr = prepost_stds,linestyle='--',label =crf_label[prepost], color = fill[13-prepost], linewidth = 2)\n",
    "            axs[x].errorbar(np.arange(0,6,1),prepost_avgs,yerr = prepost_stds,linestyle='--',label =crf_label[prepost], color = sess_fill[prepostPal+prepost], linewidth = 3)\n",
    "            axs[x].set_title(f'{Condition_Label[x]}',fontsize = 15)\n",
    "            axs[x].set_ylabel(f'Amplitude (mV)')\n",
    "            axs[x].set_xlabel(f'Contrast %')\n",
    "            axs[x].set_xticks(ticks = np.arange(0,6,1),labels = contrast_labs)\n",
    "            axs[x].hlines(0,xmin = 0,xmax = 5, color = 'black')\n",
    "            axs[x].legend()\n",
    "        plt.suptitle(f'{Title}', fontsize = 18)\n",
    "\n",
    "    return axs"
   ]
  },
  {
   "cell_type": "code",
   "execution_count": null,
   "metadata": {},
   "outputs": [],
   "source": [
    "Sess1Performance = GetAttXSessXPlots(Data2Plot = sess1AttnX, Title = '1st Session Attn Dep. CRF', prepostPal = 2)\n",
    "Sess2Performance = GetAttXSessXPlots(Data2Plot = sess2AttnX, Title = '2nd Session Attn Dep. CRF', prepostPal = 14)"
   ]
  },
  {
   "cell_type": "markdown",
   "metadata": {},
   "source": [
    "#### **SORT ALL CONDITIONAL DATA Based on 1st and 2nd Session & Days Apart Group (immediate vs delayed)**"
   ]
  },
  {
   "cell_type": "code",
   "execution_count": null,
   "metadata": {},
   "outputs": [],
   "source": [
    "def SessionDelayProcessing(CombinePrePostResponses,File_Index,AttnX_Indicies,SessionDelayArr,s_color, DelayGroupIn , Title):\n",
    "    SessionDelay_Locs_AttnX = [] # 1st session visit vs 2nd session\n",
    "\n",
    "    for attnF in range(File_Index.shape[0]):\n",
    "        SessionImport = AttnX_Indicies[attnF,:] # import session value (100 = L, 200 = R)\n",
    "        What_DelayGroup = SessionDelayArr[attnF] # import delay session group subj is in \n",
    "        SessionFileLocs = File_Index[attnF,:] # import sessison file positon\n",
    "\n",
    "        if What_DelayGroup == DelayGroupIn: # if subject belongs in delay goup we're interested in\n",
    "            print(SessionFileLocs,SessionImport)\n",
    "\n",
    "            chronTime_ds_set = [F1_Responses[int(SessionFileLocs[0])],F2_Responses[int(SessionFileLocs[0])],F1_Responses[int(SessionFileLocs[1])],F2_Responses[int(SessionFileLocs[1])]]\n",
    "            SessionDelay_Locs_AttnX.append(chronTime_ds_set)\n",
    "\n",
    "    DataGroupAttnX_Out = {}\n",
    "\n",
    "    for CoX in range(4):\n",
    "\n",
    "        DataGroupAttnX_Out[CoX] = CombinePrePostResponses(DataIn = SessionDelay_Locs_AttnX, Cond2Import = int(CoX), HarmonicIndex = 0)\n",
    "        temp = np.sum(~np.isnan(DataGroupAttnX_Out[CoX][:,0,0])\n",
    "        print(f'Subjects Included in Analysis: #{temp}')\n",
    "        print(DataGroupAttnX_Out[CoX].shape)\n",
    "\n",
    "\n",
    "    fig,axs = plt.subplots(1,4,figsize = ((14,4)), sharey = True)\n",
    "    s_colorIn = (s_color[DelayGroupIn])\n",
    "# print(s_colorIn)\n",
    "\n",
    "    for x in range(4):\n",
    "        condition = np.array(DataGroupAttnX_Out[x])\n",
    "        # print(condition.shape)\n",
    "        NumObvs = np.sqrt(np.count_nonzero(~np.isnan(condition[:,0,0]))) # get number of subjs\n",
    "        print(np.sum(~np.isnan(condition[:,0,0]))) # see number of subjects per condition\n",
    "        for prepost in range(2):\n",
    "            prepost_avgs = np.nanmean(condition[:,prepost,:],axis = 0)\n",
    "            prepost_stds = np.nanstd(condition[:,prepost,:],axis = 0) / NumObvs\n",
    "        #     #axs[x].plot(prepost_avgs, label =crf_label[prepost], color = fill[9+prepost])\n",
    "        #     #axs[x].errorbar(np.arange(0,6,1),prepost_avgs,yerr = prepost_stds,linestyle='--',label =crf_label[prepost], color = fill[13-prepost], linewidth = 2)\n",
    "            axs[x].errorbar(np.arange(0,6,1),prepost_avgs,yerr = prepost_stds,linestyle='--',label =crf_label[prepost], color = sess_fill[s_colorIn[prepost]], linewidth = 3) # color = fill[17+prepost]\n",
    "            axs[x].set_title(f'{Condition_Label[x]}',fontsize = 15)\n",
    "            axs[x].set_ylabel(f'Amplitude (mV)')\n",
    "            axs[x].set_xlabel(f'Contrast %')\n",
    "            axs[x].set_xticks(ticks = np.arange(0,6,1),labels = contrast_labs)\n",
    "            axs[x].hlines(0,xmin = 0,xmax = 5, color = 'black')\n",
    "            axs[x].legend()\n",
    "        #plt.suptitle(f'1st SessionAttn Dep. CRF', fontsize = 10)\n",
    "        plt.suptitle(f'{Title}: 1st vs 2nd Session CRF', fontsize = 10)\n",
    "\n",
    "    return axs\n",
    "\n",
    "# print(len(SessionDelay_Locs_AttnX)) # sessions grouped based on 1st | 2nd visit "
   ]
  },
  {
   "cell_type": "code",
   "execution_count": null,
   "metadata": {},
   "outputs": [],
   "source": [
    "for SessDelay_Plt in range(4):  \n",
    "\n",
    "    PltCond = SessionDelayProcessing(CombinePrePostResponses,File_Index,AttnX_Indicies,SessionDelayArr,s_color, DelayGroupIn = SessDelay_Plt, Title = SessionDelay_Label[SessDelay_Plt])"
   ]
  },
  {
   "cell_type": "markdown",
   "metadata": {},
   "source": [
    "## ****Normalize CRF Based on 1st Pre CRF****"
   ]
  },
  {
   "cell_type": "code",
   "execution_count": null,
   "metadata": {},
   "outputs": [],
   "source": [
    "Harmonic2Normalize = 0"
   ]
  },
  {
   "cell_type": "code",
   "execution_count": null,
   "metadata": {},
   "outputs": [],
   "source": [
    "NormalizedOut = []\n",
    "\n",
    "for subj in range(len(CRF_IndividualResponses_Sorted)):\n",
    "    Normalized2Pre4Sess1 = []\n",
    "    for AllSessDataperSubj in range(4):\n",
    "        dImport = CRF_IndividualResponses_Sorted[subj][AllSessDataperSubj] # [4x2x6]\n",
    "\n",
    "        if AllSessDataperSubj == 0: # acess 1st session response pre induction for left hemifield (inducting)\n",
    "            MaxPre = np.max(dImport[Harmonic2Normalize,0,:])\n",
    "            #print(f'getting max response during pre induction, 1st session for subj {subj}, {MaxPre}')\n",
    "\n",
    "        Normalized_DataOut = dImport[Harmonic2Normalize,:,:] / MaxPre\n",
    "        Normalized2Pre4Sess1.append(Normalized_DataOut)\n",
    "\n",
    "    NormalizedOut.append(Normalized2Pre4Sess1)"
   ]
  },
  {
   "cell_type": "code",
   "execution_count": null,
   "metadata": {},
   "outputs": [],
   "source": [
    "PreS1_NormData = []\n",
    "for x in range(4):\n",
    "    temp = CombinePrePostResponses_PreS1Norm(DataIn = NormalizedOut,CoX = x)\n",
    "    PreS1_NormData.append(temp)"
   ]
  },
  {
   "cell_type": "code",
   "execution_count": null,
   "metadata": {},
   "outputs": [],
   "source": [
    "DelayGroupIn = 0"
   ]
  },
  {
   "cell_type": "code",
   "execution_count": null,
   "metadata": {},
   "outputs": [],
   "source": [
    "fig,axs = plt.subplots(1,4,figsize = ((14,4)), sharey = True)\n",
    "s_colorIn = (s_color[DelayGroupIn])\n",
    "\n",
    "for x in range(4):\n",
    "    condition = np.array(PreS1_NormData[x])\n",
    "    NumObvs = np.sqrt(np.count_nonzero(~np.isnan(condition[:,0,0]))) # get number of subjs\n",
    "    #print(np.sum(~np.isnan(condition[:,0,0]))) # see number of subjects per condition\n",
    "    for prepost in range(2):\n",
    "        prepost_avgs = np.nanmean(condition[:,prepost,:],axis = 0)\n",
    "        prepost_stds = np.nanstd(condition[:,prepost,:],axis = 0) / NumObvs\n",
    "    # #     #axs[x].plot(prepost_avgs, label =crf_label[prepost], color = fill[9+prepost])\n",
    "    # #     #axs[x].errorbar(np.arange(0,6,1),prepost_avgs,yerr = prepost_stds,linestyle='--',label =crf_label[prepost], color = fill[13-prepost], linewidth = 2)\n",
    "        axs[x].errorbar(np.arange(0,6,1),prepost_avgs,yerr = prepost_stds,linestyle='--',label =crf_label[prepost], color = sess_fill[s_colorIn[prepost]], linewidth = 3) # color = fill[17+prepost]\n",
    "        axs[x].set_title(f'{Condition_Label[x]}',fontsize = 15)\n",
    "        axs[x].set_ylabel(f'Amplitude (mV)')\n",
    "        axs[x].set_xlabel(f'Contrast %')\n",
    "        axs[x].set_xticks(ticks = np.arange(0,6,1),labels = contrast_labs)\n",
    "        axs[x].hlines(0,xmin = 0,xmax = 5, color = 'black')\n",
    "        axs[x].legend()\n",
    "    #plt.suptitle(f'1st SessionAttn Dep. CRF', fontsize = 10)\n",
    "    plt.suptitle(f'1st vs 2nd Session CRF', fontsize = 10)"
   ]
  },
  {
   "cell_type": "markdown",
   "metadata": {},
   "source": [
    "#### ****End of workbench - need to fit somehwere else ...****"
   ]
  },
  {
   "cell_type": "code",
   "execution_count": null,
   "metadata": {},
   "outputs": [],
   "source": [
    "dd = ee"
   ]
  },
  {
   "cell_type": "code",
   "execution_count": null,
   "metadata": {},
   "outputs": [],
   "source": [
    "\n",
    "    #print(SessionImport,SessionFileLocs)\n",
    "    # if np.isnan(SessionFileLocs):\n",
    "    #     print(f'session does not exist')\n",
    "    #     ds_set = [crf_nans,crf_nans,crf_nans,crf_nans]\n",
    "    #     SessionData_Locs.append(ds_set)\n",
    "    # else:\n",
    "    # # #print(f'{SessionImport},{SessionFileLocs}')\n",
    "    #     if SessionImport == 100:\n",
    "    #         print('Attend Left session was first exposure to task')\n",
    "    #         ds_set = [F1_Responses[int(SessionFileLocs)],F2_Responses[int(SessionFileLocs)],crf_nans,crf_nans]\n",
    "    #         SessionData_Locs.append(ds_set)\n",
    "    #     elif SessionImport == 200:\n",
    "    #         print('Attend Right session was first exposure to task')\n",
    "    #         ds_set = [crf_nans,crf_nans, F1_Responses[int(SessionFileLocs)],F2_Responses[int(SessionFileLocs)]]\n",
    "    #         SessionData_Locs.append(ds_set)"
   ]
  },
  {
   "cell_type": "code",
   "execution_count": null,
   "metadata": {},
   "outputs": [],
   "source": [
    "print(np.unique(SessionDelayArr,return_counts = True))# [38] - array of 0-4\n",
    "print(len(SessionDelay_Locs_AttnX))"
   ]
  },
  {
   "cell_type": "code",
   "execution_count": null,
   "metadata": {},
   "outputs": [],
   "source": [
    "# DataGroupAttnX_Out = {}\n",
    "\n",
    "# for CoX in range(4):\n",
    "\n",
    "#     DataGroupAttnX_Out[CoX] = CombinePrePostResponses(DataIn = SessionDelay_Locs_AttnX, Cond2Import = int(CoX), HarmonicIndex = 0)\n",
    "#     temp = np.sum(~np.isnan(DataGroupAttnX_Out[CoX][:,0,0]))\n",
    "#     print(f'Subjects Included in Analysis: #{temp}')\n",
    "#     print(DataGroupAttnX_Out[CoX].shape)"
   ]
  },
  {
   "cell_type": "markdown",
   "metadata": {},
   "source": [
    "#### **Plot CRF based on 1st vs 2nd session, not attn dependent**"
   ]
  },
  {
   "cell_type": "code",
   "execution_count": null,
   "metadata": {},
   "outputs": [],
   "source": [
    "# fig,axs = plt.subplots(1,4,figsize = ((14,4)), sharey = True)\n",
    "# s_colorIn = (s_color[DelayGroupIn])\n",
    "# print(s_colorIn)\n",
    "\n",
    "# for x in range(4):\n",
    "#     condition = np.array(DataGroupAttnX_Out[x])\n",
    "#     # print(condition.shape)\n",
    "#     NumObvs = np.sqrt(np.count_nonzero(~np.isnan(condition[:,0,0]))) # get number of subjs\n",
    "#     print(np.sum(~np.isnan(condition[:,0,0]))) # see number of subjects per condition\n",
    "#     for prepost in range(2):\n",
    "#         prepost_avgs = np.nanmean(condition[:,prepost,:],axis = 0)\n",
    "#         prepost_stds = np.nanstd(condition[:,prepost,:],axis = 0) / NumObvs\n",
    "#     #     #axs[x].plot(prepost_avgs, label =crf_label[prepost], color = fill[9+prepost])\n",
    "#     #     #axs[x].errorbar(np.arange(0,6,1),prepost_avgs,yerr = prepost_stds,linestyle='--',label =crf_label[prepost], color = fill[13-prepost], linewidth = 2)\n",
    "#         axs[x].errorbar(np.arange(0,6,1),prepost_avgs,yerr = prepost_stds,linestyle='--',label =crf_label[prepost], color = sess_fill[s_colorIn[prepost]], linewidth = 2) # color = fill[17+prepost]\n",
    "#         axs[x].set_title(f'{Condition_Label[x]}',fontsize = 15)\n",
    "#         axs[x].set_ylabel(f'Amplitude (mV)')\n",
    "#         axs[x].set_xlabel(f'Contrast %')\n",
    "#         axs[x].set_xticks(ticks = np.arange(0,6,1),labels = contrast_labs)\n",
    "#         axs[x].hlines(0,xmin = 0,xmax = 5, color = 'black')\n",
    "#         axs[x].legend()\n",
    "#     #plt.suptitle(f'1st SessionAttn Dep. CRF', fontsize = 10)\n",
    "#     plt.suptitle(f'1st vs 2nd Session CRF', fontsize = 10)"
   ]
  },
  {
   "cell_type": "markdown",
   "metadata": {},
   "source": [
    "#### **Plot CRF based on 1st (attnL) vs 2nd session(attnR)**"
   ]
  },
  {
   "cell_type": "code",
   "execution_count": null,
   "metadata": {},
   "outputs": [],
   "source": [
    "DataGroupAttnL_Out = {}\n",
    "\n",
    "for CoX in range(4):\n",
    "\n",
    "    DataGroupAttnL_Out[CoX] = CombinePrePostResponses(DataIn = SessionData_Locs_AttnL_1st, Cond2Import = int(CoX), HarmonicIndex = 0)\n",
    "    temp = np.sum(~np.isnan(DataGroupAttnL_Out[CoX][:,0,0]))\n",
    "    print(f'Subjects Included in Analysis: #{temp}')\n",
    "    print(DataGroupAttnL_Out[CoX].shape)"
   ]
  },
  {
   "cell_type": "code",
   "execution_count": null,
   "metadata": {},
   "outputs": [],
   "source": [
    "fig,axs = plt.subplots(1,4,figsize = ((14,4)), sharey = True)\n",
    "\n",
    "for x in range(4):\n",
    "    condition = np.array(DataGroupAttnL_Out[x])\n",
    "    print(condition.shape)\n",
    "    NumObvs = np.sqrt(np.count_nonzero(~np.isnan(condition[:,0,0]))) # get number of subjs\n",
    "    print(np.sum(~np.isnan(condition[:,0,0]))) # see number of subjects per condition\n",
    "    for prepost in range(2):\n",
    "        prepost_avgs = np.nanmean(condition[:,prepost,:],axis = 0)\n",
    "        prepost_stds = np.nanstd(condition[:,prepost,:],axis = 0) / NumObvs\n",
    "    #     #axs[x].plot(prepost_avgs, label =crf_label[prepost], color = fill[9+prepost])\n",
    "    #     #axs[x].errorbar(np.arange(0,6,1),prepost_avgs,yerr = prepost_stds,linestyle='--',label =crf_label[prepost], color = fill[13-prepost], linewidth = 2)\n",
    "        axs[x].errorbar(np.arange(0,6,1),prepost_avgs,yerr = prepost_stds,linestyle='--',label =crf_label[prepost], color = sess_fill[s_colorIn[prepost]], linewidth = 2)\n",
    "        axs[x].set_title(f'{Condition_Label[x]}',fontsize = 15)\n",
    "        axs[x].set_ylabel(f'Amplitude (mV)')\n",
    "        axs[x].set_xlabel(f'Contrast %')\n",
    "        axs[x].set_xticks(ticks = np.arange(0,6,1),labels = contrast_labs)\n",
    "        axs[x].hlines(0,xmin = 0,xmax = 5, color = 'black')\n",
    "        axs[x].legend()\n",
    "    #plt.suptitle(f'1st SessionAttn Dep. CRF', fontsize = 10)\n",
    "    plt.suptitle(f'AtnnL vs AttnR Session CRF', fontsize = 10)"
   ]
  },
  {
   "cell_type": "markdown",
   "metadata": {},
   "source": [
    "#### **Plot CRF based on 1st (attnR) vs 2nd session(attnL)**"
   ]
  },
  {
   "cell_type": "code",
   "execution_count": null,
   "metadata": {},
   "outputs": [],
   "source": [
    "DataGroupAttnR_Out = {}\n",
    "\n",
    "for CoX in range(4):\n",
    "\n",
    "    DataGroupAttnR_Out[CoX] = CombinePrePostResponses(DataIn = SessionData_Locs_AttnR_1st, Cond2Import = int(CoX), HarmonicIndex = 0)\n",
    "    temp = np.sum(~np.isnan(DataGroupAttnR_Out[CoX][:,0,0]))\n",
    "    print(f'Subjects Included in Analysis: #{temp}')\n",
    "    print(DataGroupAttnR_Out[CoX].shape)"
   ]
  },
  {
   "cell_type": "code",
   "execution_count": null,
   "metadata": {},
   "outputs": [],
   "source": [
    "fig,axs = plt.subplots(1,4,figsize = ((14,4)), sharey = True)\n",
    "\n",
    "for x in range(4):\n",
    "    condition = np.array(DataGroupAttnR_Out[x])\n",
    "    print(condition.shape)\n",
    "    NumObvs = np.sqrt(np.count_nonzero(~np.isnan(condition[:,0,0]))) # get number of subjs\n",
    "    print(np.sum(~np.isnan(condition[:,0,0]))) # see number of subjects per condition\n",
    "    for prepost in range(2):\n",
    "        prepost_avgs = np.nanmean(condition[:,prepost,:],axis = 0)\n",
    "        prepost_stds = np.nanstd(condition[:,prepost,:],axis = 0) / NumObvs\n",
    "    #     #axs[x].plot(prepost_avgs, label =crf_label[prepost], color = fill[9+prepost])\n",
    "        axs[x].errorbar(np.arange(0,6,1),prepost_avgs,yerr = prepost_stds,linestyle='--',label =crf_label[prepost], color = sess_fill[s_colorIn[prepost]], linewidth = 2)\n",
    "        #axs[x].errorbar(np.arange(0,6,1),prepost_avgs,yerr = prepost_stds,linestyle='--',label =crf_label[prepost], color = fill[17+prepost], linewidth = 2)\n",
    "        axs[x].set_title(f'{Condition_Label[x]}',fontsize = 15)\n",
    "        axs[x].set_ylabel(f'Amplitude (mV)')\n",
    "        axs[x].set_xlabel(f'Contrast %')\n",
    "        axs[x].set_xticks(ticks = np.arange(0,6,1),labels = contrast_labs)\n",
    "        axs[x].hlines(0,xmin = 0,xmax = 5, color = 'black')\n",
    "        axs[x].legend()\n",
    "    #plt.suptitle(f'1st SessionAttn Dep. CRF', fontsize = 10)\n",
    "    plt.suptitle(f'AtnnR vs AttnL Session CRF', fontsize = 10)"
   ]
  },
  {
   "cell_type": "markdown",
   "metadata": {},
   "source": [
    "### Workbench end ... code below should be modified ..."
   ]
  },
  {
   "cell_type": "code",
   "execution_count": null,
   "metadata": {},
   "outputs": [],
   "source": [
    "pp = dd"
   ]
  },
  {
   "cell_type": "code",
   "execution_count": null,
   "metadata": {},
   "outputs": [],
   "source": [
    "# SessionData_Locs = []\n",
    "# #crf_nans\n",
    "# for attnF in range(File_Index.shape[0]):\n",
    "#     SessionImport = AttnX_Indicies[attnF,SessionDay] # import session value \n",
    "#     SessionFileLocs = File_Index[attnF,SessionDay] # import sesison file positon\n",
    "#     #print(SessionImport,SessionFileLocs)\n",
    "#     if np.isnan(SessionFileLocs):\n",
    "#         print(f'session does not exist')\n",
    "#         ds_set = [crf_nans,crf_nans,crf_nans,crf_nans]\n",
    "#         SessionData_Locs.append(ds_set)\n",
    "#     else:\n",
    "#     # #print(f'{SessionImport},{SessionFileLocs}')\n",
    "#         if SessionImport == 100:\n",
    "#             print('Attend Left session was first exposure to task')\n",
    "#             ds_set = [F1_Responses[int(SessionFileLocs)],F2_Responses[int(SessionFileLocs)],crf_nans,crf_nans]\n",
    "#             SessionData_Locs.append(ds_set)\n",
    "#         if SessionImport == 200:\n",
    "#             print('Attend Right session was first exposure to task')\n",
    "#             ds_set = [crf_nans,crf_nans, F1_Responses[int(SessionFileLocs)],F2_Responses[int(SessionFileLocs)]]\n",
    "#             SessionData_Locs.append(ds_set)"
   ]
  },
  {
   "cell_type": "code",
   "execution_count": null,
   "metadata": {},
   "outputs": [],
   "source": [
    "# print(len(SessionData_Locs))\n",
    "# print((SessionData_Locs[0][0].shape))\n",
    "\n",
    "# sess1AttnX = {}\n",
    "\n",
    "# for CoX in range(4):\n",
    "#     sess1AttnX[CoX] = CombinePrePostResponses(DataIn = SessionData_Locs, Cond2Import = int(CoX), HarmonicIndex = 0)\n",
    "#     print(sess1AttnX[CoX].shape)"
   ]
  },
  {
   "cell_type": "code",
   "execution_count": null,
   "metadata": {},
   "outputs": [],
   "source": [
    "fig,axs = plt.subplots(1,4,figsize = ((14,4)), sharey = True)\n",
    "\n",
    "for x in range(4):\n",
    "    condition = np.array(sess1AttnX[x])\n",
    "    print(condition.shape)\n",
    "    NumObvs = np.sqrt(np.count_nonzero(~np.isnan(condition[:,0,0]))) # get number of subjs\n",
    "    for prepost in range(2):\n",
    "        prepost_avgs = np.nanmean(condition[:,prepost,:],axis = 0)\n",
    "        prepost_stds = np.nanstd(condition[:,prepost,:],axis = 0) / NumObvs\n",
    "        #axs[x].plot(prepost_avgs, label =crf_label[prepost], color = fill[9+prepost])\n",
    "        #axs[x].errorbar(np.arange(0,6,1),prepost_avgs,yerr = prepost_stds,linestyle='--',label =crf_label[prepost], color = fill[13-prepost], linewidth = 2)\n",
    "        axs[x].errorbar(np.arange(0,6,1),prepost_avgs,yerr = prepost_stds,linestyle='--',label =crf_label[prepost], color = fill[17+prepost], linewidth = 2)\n",
    "        axs[x].set_title(f'{Condition_Label[x]}',fontsize = 15)\n",
    "        axs[x].set_ylabel(f'Amplitude (mV)')\n",
    "        axs[x].set_xlabel(f'Contrast %')\n",
    "        axs[x].set_xticks(ticks = np.arange(0,6,1),labels = contrast_labs)\n",
    "        axs[x].hlines(0,xmin = 0,xmax = 5, color = 'black')\n",
    "        axs[x].legend()\n",
    "    #plt.suptitle(f'1st SessionAttn Dep. CRF', fontsize = 10)\n",
    "    plt.suptitle(f'2nd Session Attn Dep. CRF', fontsize = 10)\n"
   ]
  },
  {
   "cell_type": "markdown",
   "metadata": {},
   "source": [
    "##### **SORT ALL DATA**"
   ]
  },
  {
   "cell_type": "code",
   "execution_count": null,
   "metadata": {},
   "outputs": [],
   "source": [
    "# sort! \n",
    "CRF_IndividualResponses_Sorted = []\n",
    "# ExptCondition+Label = []\n",
    "\n",
    "for iter in range(len(Subj_Ids)):\n",
    "\n",
    "    Subj_Title = Subj_Ids[iter] # subject \n",
    "    Indiv_File_Locations = File_Index[iter,:] # import file locations for data\n",
    "    AttendL_Condition = Indiv_File_Locations[0] # attnL file\n",
    "    AttendR_Condition = Indiv_File_Locations[1] # attnR file\n",
    "\n",
    "    # If both locations contain NaNs, replace all data\n",
    "    if np.isnan(AttendL_Condition) and np.isnan(AttendR_Condition):\n",
    "        CRF_Set = [crf_nans, crf_nans, crf_nans, crf_nans]\n",
    "        print('Both AttnL and AttnR files are missing, now replacing all data ...')\n",
    "        print(Indiv_File_Locations)\n",
    "    # If the first position contains a NaN, replace with NaN data for F1 and F2\n",
    "    elif np.isnan(AttendL_Condition):\n",
    "        print('Attn L file is missing, now replacing ...')\n",
    "        print(Indiv_File_Locations)\n",
    "        CRF_Set = [crf_nans, crf_nans, F1_Responses[int(AttendR_Condition)], F2_Responses[int(AttendR_Condition)]]\n",
    "    # If the second position contains a NaN, replace with NaN data for F1 and F2\n",
    "    elif np.isnan(AttendR_Condition):\n",
    "        print('Attn R file is missing, now replacing ...')\n",
    "        print(Indiv_File_Locations)\n",
    "        CRF_Set = [F1_Responses[int(AttendL_Condition)], F2_Responses[int(AttendL_Condition)], crf_nans, crf_nans]\n",
    "    else:\n",
    "        print('Both AttnL and AttnR files are present.')\n",
    "        print(Indiv_File_Locations)\n",
    "        CRF_Set = [F1_Responses[int(AttendL_Condition)], F2_Responses[int(AttendL_Condition)], F1_Responses[int(AttendR_Condition)], F2_Responses[int(AttendR_Condition)]]\n",
    "        \n",
    "    CRF_IndividualResponses_Sorted.append(CRF_Set)"
   ]
  },
  {
   "cell_type": "markdown",
   "metadata": {},
   "source": [
    "#### *Should have 4 indices, each for : Pot Attn Cong, NonPot Attn Congr, Pot Attn Incong, NonPot Attn Incong*"
   ]
  },
  {
   "cell_type": "code",
   "execution_count": null,
   "metadata": {},
   "outputs": [],
   "source": [
    "print(len(CRF_IndividualResponses_Sorted)) # [subject , 4 condtions, harmonic, prepost , contrast]\n",
    "print(len(CRF_IndividualResponses_Sorted[0])) # 1 subjects perfomrance for boht sessions for each hemisphere\n",
    "print((CRF_IndividualResponses_Sorted[0][0].shape)) # Harmonic CRF, PrePost Values, Response per sweep"
   ]
  },
  {
   "cell_type": "code",
   "execution_count": null,
   "metadata": {},
   "outputs": [],
   "source": [
    "# for i in range(len(CRF_IndividualResponses_Sorted)):\n",
    "#     vistest = CRF_IndividualResponses_Sorted[i][0]\n",
    "#     print(i,vistest[0,0,4])"
   ]
  },
  {
   "cell_type": "markdown",
   "metadata": {},
   "source": [
    "### *Combine CRF's into a single array, for a single harmonic at a time*"
   ]
  },
  {
   "cell_type": "code",
   "execution_count": null,
   "metadata": {},
   "outputs": [],
   "source": [
    "# HarmonicValIn = 0"
   ]
  },
  {
   "cell_type": "code",
   "execution_count": null,
   "metadata": {},
   "outputs": [],
   "source": [
    "PrePostConditionData = {}\n",
    "for CondX in range(4):\n",
    "    PrePostConditionData[CondX] = CombinePrePostResponses(DataIn = CRF_IndividualResponses_Sorted, Cond2Import = CondX, HarmonicIndex = HarmonicValIn)\n",
    "    NaN_Bool = np.isnan(PrePostConditionData[CondX]).all(axis = (1,2))\n",
    "    Remain_Subj_Count = PrePostConditionData[CondX][~NaN_Bool]\n",
    "    print(f'Remaining subjs structure: Subj x PrePost x Sweep : {Remain_Subj_Count.shape}')"
   ]
  },
  {
   "cell_type": "markdown",
   "metadata": {},
   "source": [
    "#### *Based on above, plot saturatation trend across Hemisphere for Attn-Congruent and Incongruent Condition*"
   ]
  },
  {
   "cell_type": "code",
   "execution_count": null,
   "metadata": {},
   "outputs": [],
   "source": [
    "Vals = []  # saturation index response values \n",
    "SaturatingSweep = [] # location of where response is max \n",
    "RMaxResponseRecord = []\n",
    "for CondX in range(4):\n",
    "    CondX_Vals, CondX_SaturatingSweep, RMaxVals = Store_SaturationIndex_Information(dataIn = PrePostConditionData[CondX])\n",
    "    Vals.append(CondX_Vals) # saturation index values \n",
    "    SaturatingSweep.append(CondX_SaturatingSweep) # position of max repsonse \n",
    "    RMaxResponseRecord.append(RMaxVals) # store response at highest contrast "
   ]
  },
  {
   "cell_type": "code",
   "execution_count": null,
   "metadata": {},
   "outputs": [],
   "source": [
    "print(Vals[0].shape)\n",
    "print(Vals[0])"
   ]
  },
  {
   "cell_type": "code",
   "execution_count": null,
   "metadata": {},
   "outputs": [],
   "source": [
    "fig,axs = plt.subplots(1,4,figsize = ((28,5)),sharey = True)\n",
    "\n",
    "for coV in range(4):\n",
    "    SI_Values_PrePost = np.array(Vals[coV])\n",
    "\n",
    "    SI_label = ['pre','post']\n",
    "    for i in range(SI_Values_PrePost.shape[1]):\n",
    "        axs[coV].scatter(np.arange(0,SI_Values_PrePost.shape[0],1),SI_Values_PrePost[:,i],color = fill[9+i], label = SI_label[i])\n",
    "        #plt.plot(SI_Values_PrePost[:,i],color = fill[9+i])\n",
    "        axs[coV].hlines(0,xmin = 0,xmax = int(SI_Values_PrePost.shape[0]), color = fill[0])\n",
    "        axs[coV].legend(loc = 'lower right')\n",
    "        axs[coV].set_title(f'Saturation Index Cond: {Condition_Label[coV]}')"
   ]
  },
  {
   "cell_type": "code",
   "execution_count": null,
   "metadata": {},
   "outputs": [],
   "source": [
    "# color_s = [0,5]\n",
    "# for coV in range(4):\n",
    "#     SI_Values_PrePost = np.array(Vals[coV])\n",
    "\n",
    "#     fig,axs = plt.subplots(figsize = ((6,3)))\n",
    "#     for i in range(SI_Values_PrePost.shape[1]):\n",
    "#         axs.scatter(np.arange(0,SI_Values_PrePost.shape[0],1),SI_Values_PrePost[:,i],color = fill[color_s[i]], label = crf_label[i])\n",
    "#         #plt.plot(SI_Values_PrePost[:,i],color = fill[color_s[i]])\n",
    "#         axs.hlines(0,xmin = 0,xmax = int(SI_Values_PrePost.shape[0]), color = fill[0])\n",
    "#         axs.legend(loc = 'lower right')\n",
    "#         axs.set_title(f'Saturation Index Cond: {Condition_Label[coV]}')"
   ]
  },
  {
   "cell_type": "code",
   "execution_count": null,
   "metadata": {},
   "outputs": [],
   "source": [
    "Saturation_Bool_group = []\n",
    "Saturation_Counts = [] # wull use this index to identiy saturating CRF groups\n",
    "\n",
    "for CondX in range(4): \n",
    "    sbg, sc = GetSaturationIndex_Bool(SaturationValuesIn = Vals[CondX], CRFs_In= PrePostConditionData[CondX])\n",
    "    Saturation_Bool_group.append(sbg)\n",
    "    Saturation_Counts.append(sc)"
   ]
  },
  {
   "cell_type": "code",
   "execution_count": null,
   "metadata": {},
   "outputs": [],
   "source": [
    "# x_positions = np.array(np.arange(0,4,1))\n",
    "Grand_SI = np.zeros((4*3))\n",
    "Grand_EB = np.zeros_like((Grand_SI))\n",
    "\n",
    "for Cx in range(4):\n",
    "    ConditionChanges,ErrorEsts = SaturationIndex_3Fold(SaturationIndexScores = Vals[Cx])\n",
    "    #print(ConditionChanges)\n",
    "    Grand_SI[Cx*3:(Cx+1)*3] = ConditionChanges\n",
    "    Grand_EB[Cx*3:(Cx+1)*3] = ErrorEsts\n"
   ]
  },
  {
   "cell_type": "code",
   "execution_count": null,
   "metadata": {},
   "outputs": [],
   "source": [
    "bar_colors = ['red','white','green','white','purple','black']\n",
    "# Number of colors needed in the spectrum\n",
    "num_colors = 14\n",
    "bar_fill = sns.blend_palette(bar_colors, n_colors=num_colors, as_cmap=False)\n",
    "sns.palplot(bar_fill)\n",
    "plt.show()\n",
    "colors2rep = bar_fill[9:12]#[5:8]\n",
    "color_patt = colors2rep*6\n",
    "sns.palplot(color_patt)\n"
   ]
  },
  {
   "cell_type": "code",
   "execution_count": null,
   "metadata": {},
   "outputs": [],
   "source": [
    "fig,axs = plt.subplots(figsize = ((12,5)))\n",
    "bar_label = ['Pre','Post','Change'] * 4\n",
    "\n",
    "bax_upperlabs =  [[Condition_Label[ i// 3]] for i in range(12)]\n",
    "\n",
    "axs.hlines(0,xmin = 0,xmax = 12, color = 'black')\n",
    "axs.bar(np.arange(0,12,1),Grand_SI, color = color_patt)\n",
    "axs.errorbar(np.arange(0,12,1),Grand_SI, yerr=Grand_EB, fmt=\"*\", color=bar_fill[0])\n",
    "axs.set_xticks(np.arange(0,12,1), bar_label, rotation=45)\n",
    "\n",
    "secax = axs.secondary_xaxis('top')\n",
    "secax.set_xticks(np.arange(1.0, 12, 3))  # Adjust the position to be centered on the group\n",
    "secax.set_xticklabels(Condition_Label)\n",
    "# secax.set_xticks(np.arange(0,12,4))\n",
    "# secax.set_xticklabels(bax_upperlabs[::4])\n",
    "axs.set_title(f'Pre-Post-Induction SI Change per Hemifield',fontsize = 15)\n",
    "axs.set_ylabel('SI Score Change')\n",
    "plt.show()"
   ]
  },
  {
   "cell_type": "markdown",
   "metadata": {},
   "source": [
    "#### Based on supersaturating reponses, fix responses based on rmax"
   ]
  },
  {
   "cell_type": "code",
   "execution_count": null,
   "metadata": {},
   "outputs": [],
   "source": [
    "FixedSaturation_CRF = []\n",
    "for x in range(4):\n",
    "    # SaturationFixes = SaturationFix_CRF(crf = PrePostConditionData[x],SI = Saturation_Bool_group[x])\n",
    "    SaturationFixes = SaturationFix_CRF(crf = PrePostConditionData[x],SI = Vals[x])\n",
    "    FixedSaturation_CRF.append(SaturationFixes)"
   ]
  },
  {
   "cell_type": "markdown",
   "metadata": {},
   "source": [
    "##### *Run Original NakaRushton with Non-Saturating, Normalized Contrast Response Functions*"
   ]
  },
  {
   "cell_type": "code",
   "execution_count": null,
   "metadata": {},
   "outputs": [],
   "source": [
    "# get non-saturating CRFs to fit and derive values from \n",
    "nr_Group = []\n",
    "norm_crf_Group = []\n",
    "\n",
    "for CondX in range(4):\n",
    "    #grouped_data = PrePostConditionData[CondX][Saturation_Subjs == 0,:,:] # No Saturation group, SI == 0\n",
    "    #grouped_data = PrePostConditionData[CondX][Saturation_Subjs > 0,:,:] # Supersaturaton group, SI< 0 \n",
    "    #grouped_data = PrePostConditionData[CondX] # Supersaturaton group, SI< 0 # ORIGINAL CRFS WITH SATURATION\n",
    "    norm_crf_data = PrePostConditionData[CondX]\n",
    "    grouped_data = FixedSaturation_CRF[CondX] # FIXED SATURATION DATA\n",
    "    nr_Group.append(grouped_data)\n",
    "    norm_crf_Group.append(norm_crf_data)"
   ]
  },
  {
   "cell_type": "markdown",
   "metadata": {},
   "source": [
    "#### *Visualize Original Contrast Resonse Functions*"
   ]
  },
  {
   "cell_type": "code",
   "execution_count": null,
   "metadata": {},
   "outputs": [],
   "source": [
    "fig,axs = plt.subplots(1,4,figsize = ((14,4)), sharey = True)\n",
    "\n",
    "for x in range(4):\n",
    "    condition = np.array(norm_crf_Group[x])\n",
    "    print(condition.shape)\n",
    "    NumObvs = np.sqrt(np.count_nonzero(~np.isnan(condition[:,0,0]))) # get number of subjs\n",
    "    for prepost in range(2):\n",
    "        prepost_avgs = np.nanmean(condition[:,prepost,:],axis = 0)\n",
    "        prepost_stds = np.nanstd(condition[:,prepost,:],axis = 0) / NumObvs\n",
    "        #axs[x].plot(prepost_avgs, label =crf_label[prepost], color = fill[9+prepost])\n",
    "        axs[x].errorbar(np.arange(0,6,1),prepost_avgs,yerr = prepost_stds,label =crf_label[prepost], color = fill[9+prepost], linewidth = 2)\n",
    "        axs[x].set_title(f'{Condition_Label[x]}')\n",
    "        axs[x].set_ylabel(f'Amplitude (mV)')\n",
    "        axs[x].set_xlabel(f'Contrast %')\n",
    "        axs[x].set_xticks(ticks = np.arange(0,6,1),labels = contrast_labs)\n",
    "        axs[x].hlines(0,xmin = 0,xmax = 5, color = 'black')\n",
    "        axs[x].legend()\n",
    "    plt.suptitle(f'original CRF', fontsize = 15)"
   ]
  },
  {
   "cell_type": "markdown",
   "metadata": {},
   "source": [
    "#### *Visualize Fixed Saturation Contrast Response Functions*"
   ]
  },
  {
   "cell_type": "code",
   "execution_count": null,
   "metadata": {},
   "outputs": [],
   "source": [
    "fig,axs = plt.subplots(1,4,figsize = ((14,4)), sharey = True)\n",
    "\n",
    "for x in range(4):\n",
    "\n",
    "    condition = np.array(FixedSaturation_CRF[x])\n",
    "    #condition = np.array(nr_Group[x])\n",
    "    NumObvs = np.sqrt(np.count_nonzero(~np.isnan(condition[:,0,0]))) # get number of subjs\n",
    "\n",
    "    for prepost in range(2):\n",
    "        prepost_avgs = np.nanmean(condition[:,prepost,:],axis = 0)\n",
    "        prepost_stds = np.nanstd(condition[:,prepost,:],axis = 0) / NumObvs\n",
    "        #axs[x].plot(prepost_avgs, label =crf_label[prepost], color = fill[9+prepost])\n",
    "        axs[x].errorbar(np.arange(0,6,1),prepost_avgs,yerr = prepost_stds,label =crf_label[prepost], color = fill[9+prepost], linewidth = 2)\n",
    "        axs[x].set_title(f'{Condition_Label[x]}')\n",
    "        axs[x].set_ylabel(f'Amplitude (mV)')\n",
    "        axs[x].set_xlabel(f'Contrast')\n",
    "        axs[x].set_xticks(ticks = np.arange(0,6,1),labels = contrast_labs)\n",
    "        axs[x].hlines(0,xmin = 0,xmax = 5, color = 'black')\n",
    "        axs[x].legend()\n",
    "\n",
    "plt.suptitle(f'Fixed Saturation CRF', fontsize = 15)"
   ]
  },
  {
   "cell_type": "code",
   "execution_count": null,
   "metadata": {},
   "outputs": [],
   "source": [
    "# dummy data for pre-exisiting nan data (missing files)\n",
    "emptyMat = np.zeros((1,4))\n",
    "emptyMat[:] = np.nan"
   ]
  },
  {
   "cell_type": "code",
   "execution_count": null,
   "metadata": {},
   "outputs": [],
   "source": [
    "AllCondition_FitParams = []\n",
    "\n",
    "for nr_group_in in range(4):\n",
    "    #nr_group_data = np.array(nr_Group[nr_group_in]) # original contrast repsonse functions \n",
    "    nr_group_data = np.array(FixedSaturation_CRF[nr_group_in]) # fixed saturation contrast repsonse functions \n",
    "    \n",
    "    Fit_Params = np.zeros((nr_group_data.shape[0],2,4)) # [numsubs x prepost x fit outputs for hyperbolic ratio values]\n",
    "\n",
    "    for subj in range(nr_group_data.shape[0]):\n",
    "        for prepost in range(2):\n",
    "            functs_In = nr_group_data[subj,prepost,:]\n",
    "            if np.isnan(functs_In).all():\n",
    "                #print(f'skipping this computation..., data not avilable: {subj,prepost}')\n",
    "                Fit_Params[subj,prepost,:] = emptyMat\n",
    "            else: \n",
    "                Fit_Params[subj,prepost,:], _ = curve_fit(naka_rushton,contrast_levels,functs_In,p0 = [20,0.05,1,0], bounds = boundaries,nan_policy='omit', method='trf')\n",
    "    AllCondition_FitParams.append(Fit_Params)"
   ]
  },
  {
   "cell_type": "code",
   "execution_count": null,
   "metadata": {},
   "outputs": [],
   "source": [
    "AllCondition_SmoothFits = []\n",
    "\n",
    "for nr_group_in in range(4):\n",
    "    nr_group_fitVals = np.array(AllCondition_FitParams[nr_group_in]) # params form curve fit\n",
    "    SmoothFitsOut = np.zeros((nr_Group[nr_group_in].shape[0],2,int(len(ContrastArr)))) # empty array to make smooth fits\n",
    "\n",
    "    for subjFitVals in range(nr_group_fitVals.shape[0]):\n",
    "        for prepost in range(2):\n",
    "            SmoothFits = np.array(nr_group_fitVals[subjFitVals,prepost,:]) # 4 values \n",
    "            SmoothFitsOut[subjFitVals,prepost,:] = naka_rushton(ContrastArr,SmoothFits[0],SmoothFits[1],SmoothFits[2],SmoothFits[3])\n",
    "    AllCondition_SmoothFits.append(SmoothFitsOut)"
   ]
  },
  {
   "cell_type": "code",
   "execution_count": null,
   "metadata": {},
   "outputs": [],
   "source": [
    "crf__loc_vals = np.array(contrast_levels) - 1"
   ]
  },
  {
   "cell_type": "code",
   "execution_count": null,
   "metadata": {},
   "outputs": [],
   "source": [
    "# for subject in range(AllCondition_SmoothFits[0].shape[0]):\n",
    "#     fig,axs = plt.subplots(1,4,figsize = ((16,4)),sharey = True)\n",
    "#     for vx in range(4):\n",
    "#         smoothfitsimports = np.array(AllCondition_SmoothFits[vx][subject,:,:])\n",
    "#         #crfimports = np.array(nr_Group[vx][subject,:,:])\n",
    "#         crfimports = np.array(FixedSaturation_CRF[vx][subject,:,:])\n",
    "    \n",
    "#         nr_fit_values = np.array(AllCondition_FitParams[vx][subject,:,:])\n",
    "#         for prepost in range(2):\n",
    "#             axs[vx].plot(x2,smoothfitsimports[prepost,:],color = fill[9+prepost])\n",
    "#             axs[vx].scatter(contrast_levels, crfimports[prepost,:],color = fill[9+prepost],marker = 'o', linewidths = 1, s = 80,label = f'PRE: C50: {nr_fit_values[prepost,0]:.2f}, n:{nr_fit_values[prepost,1]:.2f},rMax:{nr_fit_values[prepost,2]:.2f}, B:{nr_fit_values[prepost,3]:.2f}')\n",
    "#             axs[vx].set_title(f'{Condition_Label[vx]}')\n",
    "#             axs[vx].set_ylabel(f'Amplitude (mV)')\n",
    "#             axs[vx].set_xlabel(f'Contrast %')\n",
    "#             axs[vx].hlines(0,xmin = 0,xmax = 100, color = 'black')\n",
    "\n",
    "#         for x, y in zip(contrast_levels, crfimports[0,:]):\n",
    "#             axs[vx].vlines(x, ymin=y-0.10, ymax=y+0.10, color=fill[9], linestyle='--', linewidth=1)\n",
    "\n",
    "#         for x, y in zip(contrast_levels, crfimports[1,:]):\n",
    "#             axs[vx].vlines(x, ymin=y-0.10, ymax=y+0.10, color=fill[10],linestyle='--', linewidth=1)\n",
    "\n",
    "#             #legend = ax.legend(loc='upper center', bbox_to_anchor=(0.5, -0.1), ncol=2)\n",
    "#             axs[vx].legend(loc = 'upper right',fontsize = 9,bbox_to_anchor=(1, -0.14))"
   ]
  },
  {
   "cell_type": "markdown",
   "metadata": {},
   "source": [
    "#### *Visualize AllCondition_FitParams (naka rushton fit values)*"
   ]
  },
  {
   "cell_type": "code",
   "execution_count": null,
   "metadata": {},
   "outputs": [],
   "source": [
    "fig,axs = plt.subplots(1,4,figsize = ((8,2)),sharey = True)\n",
    "\n",
    "for ParamConds in range(4):\n",
    "    nr_viz = AllCondition_FitParams[ParamConds]\n",
    "    NumObvs = np.sqrt(np.count_nonzero(~np.isnan(nr_viz[:,0,0]))) # get number of subjs\n",
    "    #print(nr_viz.shape) #[38 x 2 x 4]  = # 3rd Dim = [0] = C50,[1] = n , [2] = rMax, [3] = b\n",
    "    #print(NumObvs)\n",
    "    axs[ParamConds].scatter(np.arange(0,int(nr_viz.shape[0]),1),nr_viz[:,0,0], color = fill[0], label = 'Pre C50', alpha = 0.30)\n",
    "    axs[ParamConds].scatter(np.arange(0,int(nr_viz.shape[0]),1),nr_viz[:,1,0], color = fill[3], label = 'Post C50', alpha = 0.80)"
   ]
  },
  {
   "cell_type": "code",
   "execution_count": null,
   "metadata": {},
   "outputs": [],
   "source": [
    "paramVal_title = ['C50','n','rMax','b']\n",
    "fig,axs = plt.subplots(1,4,figsize = ((12,5)),sharey = False)\n",
    "\n",
    "for param_Val in range(4):\n",
    "    for ParamConds in range(4):\n",
    "        nr_viz = AllCondition_FitParams[ParamConds]\n",
    "        NumObvs = np.sqrt(np.count_nonzero(~np.isnan(nr_viz[:,0,param_Val]))) # get number of subjs\n",
    "\n",
    "        paramMeans = np.nanmean(nr_viz[:,:,param_Val],axis = 0)\n",
    "        paramSTDS = np.nanstd(nr_viz[:,:,param_Val],axis = 0) / NumObvs\n",
    "\n",
    "        # axs[1.0].errorbar( np.array(paramMeans), yerr = paramSTDS, color ='red', linewidth = 2)\n",
    "        axs[param_Val].hlines(0,xmin = 0,xmax = 1, color = 'black')\n",
    "        axs[param_Val].errorbar(np.arange(0,2,1),paramMeans, color = fill[ParamConds+9],yerr = paramSTDS, label = f'{Condition_Label[ParamConds]}', linewidth = 4)\n",
    "        axs[param_Val].set_xticks(ticks = np.arange(0,2,1),labels = ['Pre','Post'], fontsize= 12)\n",
    "        axs[param_Val].set_title(f'{paramVal_title[param_Val]}')\n",
    "\n",
    "axs[3].legend(loc = 'lower right')"
   ]
  },
  {
   "cell_type": "markdown",
   "metadata": {},
   "source": [
    "#### *Make Naka Rushton Dataframes for MANOVA*\n",
    "### subtract response differences for each nr value"
   ]
  },
  {
   "cell_type": "code",
   "execution_count": null,
   "metadata": {},
   "outputs": [],
   "source": [
    "print(len(AllCondition_FitParams))\n",
    "print(AllCondition_FitParams[0].shape)"
   ]
  },
  {
   "cell_type": "code",
   "execution_count": null,
   "metadata": {},
   "outputs": [],
   "source": [
    "test = AllCondition_FitParams[0][0,:,:]\n",
    "print(test.shape)\n",
    "fit_differenceValues = np.subtract(test[1,:],test[0,:])\n",
    "print(fit_differenceValues)"
   ]
  },
  {
   "cell_type": "code",
   "execution_count": null,
   "metadata": {},
   "outputs": [],
   "source": [
    "# groupIn = AllCondition_FitParams[3]\n",
    "# print(groupIn[:,0,:].shape)\n",
    "fig,axs = plt.subplots(figsize = ((10,8)))\n",
    "sns.set_style(\"whitegrid\")\n",
    "sns.despine(left=True)\n",
    "for xCond_Iters in range(4):\n",
    "    groupIn = AllCondition_FitParams[xCond_Iters]\n",
    "\n",
    "    NR_ValuesDiffs = np.subtract(groupIn[:,1,:], groupIn[:,0,:]) # post C50 - pre C50\n",
    "\n",
    "    NumObvs = np.sqrt(np.count_nonzero(~np.isnan(NR_ValuesDiffs[:,0]))) # get number of subjs\n",
    "\n",
    "    avgDiff = np.nanmean(NR_ValuesDiffs, axis = 0)\n",
    "    avgSTD = np.nanstd(NR_ValuesDiffs, axis = 0) / NumObvs\n",
    "\n",
    "    axs.errorbar(np.arange(0,4,1),avgDiff, color = fill[xCond_Iters+9],yerr = avgSTD,xerr = avgSTD, linewidth = 4, ls = 'none',label = Condition_Label[xCond_Iters]) # label = f'{Condition_Label[xCond_Iters]})\n",
    "    axs.scatter(np.arange(0,4,1),avgDiff, facecolors = 'none', edgecolors = fill[xCond_Iters+9], s = 500, linewidths=5)\n",
    "\n",
    "axs.set_xticks(ticks = np.arange(0,4,1),labels = ['C50','n', 'rMax', 'b'], fontsize= 12)\n",
    "axs.hlines(0,xmin = 0,xmax = 3, color = 'black',label = 'No Change')\n",
    "axs.set_title('Post Induction Naka Rushton Changes', fontsize = 20)\n",
    "axs.set_ylabel(f'Reponse Change', fontsize = 15)\n",
    "axs.set_xlabel(f'Naka Rushton Values', fontsize = 15)\n",
    "axs.legend(loc = 'lower right', fontsize = 15)"
   ]
  },
  {
   "cell_type": "markdown",
   "metadata": {},
   "source": [
    "#### *Make Dataframes for ANOVA*"
   ]
  },
  {
   "cell_type": "code",
   "execution_count": null,
   "metadata": {},
   "outputs": [],
   "source": [
    "attnToArr = [0,0,1,1]\n",
    "HemifArr = [0,1,0,1]"
   ]
  },
  {
   "cell_type": "code",
   "execution_count": null,
   "metadata": {},
   "outputs": [],
   "source": [
    "NakaRushtonConditon_dfs = {}\n",
    "for conds in range(4):\n",
    "    NakaRushtonConditon_dfs[conds] = NakaRushtonDataFrames(condDataIn=AllCondition_FitParams[conds],HemiBool=attnToArr[conds],AttnBool=HemifArr[conds],subs=Subj_Ids)\n",
    "    #print(len(NakaRushtonConditon_dfs[conds]))\n",
    "    #NakaRushtonConditon_dfs.append(nr_dfs)"
   ]
  },
  {
   "cell_type": "code",
   "execution_count": null,
   "metadata": {},
   "outputs": [],
   "source": [
    "headers = ['sID','Harmonic','attnTowards','hemifield', 'NR_Params','pre','post',]\n",
    "print(headers)"
   ]
  },
  {
   "cell_type": "code",
   "execution_count": null,
   "metadata": {},
   "outputs": [],
   "source": [
    "GoodSubjs = np.ones((int(len(Subj_Ids))))"
   ]
  },
  {
   "cell_type": "code",
   "execution_count": null,
   "metadata": {},
   "outputs": [],
   "source": [
    "temp_df_storage = {}\n",
    "\n",
    "for CombineFrames in range(4):\n",
    "    GoodSubjMats = [NakaRushtonConditon_dfs[CombineFrames][i] for i in range(len(GoodSubjs)) if GoodSubjs[i] == 1]\n",
    "    temp_df_storage[CombineFrames] = np.concatenate(GoodSubjMats,axis = 0)"
   ]
  },
  {
   "cell_type": "code",
   "execution_count": null,
   "metadata": {},
   "outputs": [],
   "source": [
    "arr2list = list(temp_df_storage.values()) # turn array into a list\n",
    "CombineAllDataFrames = np.concatenate(arr2list,axis = 0) # concatenate the 4 conditon data frames into 1\n",
    "Add_Headers_2_DF = pd.DataFrame(CombineAllDataFrames, columns = headers) # add headers to mat"
   ]
  },
  {
   "cell_type": "markdown",
   "metadata": {},
   "source": [
    "#### Store nr value "
   ]
  },
  {
   "cell_type": "code",
   "execution_count": null,
   "metadata": {},
   "outputs": [],
   "source": [
    "Add_Headers_2_DF"
   ]
  },
  {
   "cell_type": "code",
   "execution_count": null,
   "metadata": {},
   "outputs": [],
   "source": [
    "print(f'All Data including NaNs: {Add_Headers_2_DF.shape}') # get shape\n",
    "No_Nans_inDataFrame = Add_Headers_2_DF.dropna(subset=[Add_Headers_2_DF.columns[-1]]) # drop nans from missing files\n",
    "print(f'All Data after NaN data is removed: {No_Nans_inDataFrame.shape}')"
   ]
  },
  {
   "cell_type": "code",
   "execution_count": null,
   "metadata": {},
   "outputs": [],
   "source": [
    "FileOutName = 'Subject_ANOVA_DF_ExptGroup_RCA1_2F_Harmonic_NR_Fits'\n",
    "print(FileOutName)"
   ]
  },
  {
   "cell_type": "code",
   "execution_count": null,
   "metadata": {},
   "outputs": [],
   "source": [
    "d_frameOut = No_Nans_inDataFrame.astype(np.float64)\n",
    "print(d_frameOut.shape)\n",
    "\n",
    "FramesOut = {'CRF_PrePostFit_Values': d_frameOut,\n",
    "             'Headers': headers}\n",
    "DataOutDir= 'C:\\\\plimon\\\\GitHub_Repos\\\\SSRP_Analysis\\\\Proj_DataFrames\\\\NakaRushton_DFs\\\\'\n",
    "os.chdir(DataOutDir)"
   ]
  },
  {
   "cell_type": "code",
   "execution_count": null,
   "metadata": {},
   "outputs": [],
   "source": [
    "dnt = datetime.now() # add date and time bc im wreckless when saving ..\n",
    "fdnt = dnt.strftime(\"%Y%m%d_%H%M%S\") # set the above as a string ...\n",
    "FileN = f'{FileOutName}_{fdnt}.mat' \n",
    "print(FileN)\n",
    "\n",
    "#scipy.io.savemat(FileN, FramesOut)"
   ]
  }
 ],
 "metadata": {
  "kernelspec": {
   "display_name": "Python 3",
   "language": "python",
   "name": "python3"
  },
  "language_info": {
   "codemirror_mode": {
    "name": "ipython",
    "version": 3
   },
   "file_extension": ".py",
   "mimetype": "text/x-python",
   "name": "python",
   "nbconvert_exporter": "python",
   "pygments_lexer": "ipython3",
   "version": "3.11.9"
  }
 },
 "nbformat": 4,
 "nbformat_minor": 2
}
